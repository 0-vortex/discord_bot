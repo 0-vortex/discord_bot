{
 "cells": [
  {
   "cell_type": "markdown",
   "metadata": {},
   "source": [
    "# Install Dependencies\n"
   ]
  },
  {
   "cell_type": "code",
   "execution_count": 28,
   "metadata": {},
   "outputs": [
    {
     "name": "stdout",
     "output_type": "stream",
     "text": [
      "<!doctype html>\n",
      "<html lang=en>\n",
      "<title>Redirecting...</title>\n",
      "<h1>Redirecting...</h1>\n",
      "<p>You should be redirected automatically to the target URL: <a href=\"https://www.semanticscholar.org/product/api\">https://www.semanticscholar.org/product/api</a>. If not, click the link.\n"
     ]
    },
    {
     "name": "stderr",
     "output_type": "stream",
     "text": [
      "  % Total    % Received % Xferd  Average Speed   Time    Time     Time  Current\n",
      "                                 Dload  Upload   Total   Spent    Left  Speed\n",
      "\n",
      "  0     0    0     0    0     0      0      0 --:--:-- --:--:-- --:--:--     0\n",
      "  0     0    0     0    0     0      0      0 --:--:--  0:00:02 --:--:--     0\n",
      "100   273  100   273    0     0    101      0  0:00:02  0:00:02 --:--:--   101\n"
     ]
    }
   ],
   "source": [
    "!curl -Hx-api-key:\"<INSERT SEMANTIC SCHOLAR API KEY HERE>\" https://api.semanticscholar.org/"
   ]
  },
  {
   "cell_type": "code",
   "execution_count": 1,
   "metadata": {},
   "outputs": [
    {
     "name": "stdout",
     "output_type": "stream",
     "text": [
      "Requirement already satisfied: openai in c:\\users\\ctoukmaj\\appdata\\local\\anaconda3\\lib\\site-packages (0.27.8)\n",
      "Requirement already satisfied: requests>=2.20 in c:\\users\\ctoukmaj\\appdata\\local\\anaconda3\\lib\\site-packages (from openai) (2.28.1)\n",
      "Requirement already satisfied: tqdm in c:\\users\\ctoukmaj\\appdata\\local\\anaconda3\\lib\\site-packages (from openai) (4.64.1)\n",
      "Requirement already satisfied: aiohttp in c:\\users\\ctoukmaj\\appdata\\local\\anaconda3\\lib\\site-packages (from openai) (3.8.5)\n",
      "Requirement already satisfied: urllib3<1.27,>=1.21.1 in c:\\users\\ctoukmaj\\appdata\\local\\anaconda3\\lib\\site-packages (from requests>=2.20->openai) (1.26.14)\n",
      "Requirement already satisfied: certifi>=2017.4.17 in c:\\users\\ctoukmaj\\appdata\\local\\anaconda3\\lib\\site-packages (from requests>=2.20->openai) (2023.5.7)\n",
      "Requirement already satisfied: charset-normalizer<3,>=2 in c:\\users\\ctoukmaj\\appdata\\local\\anaconda3\\lib\\site-packages (from requests>=2.20->openai) (2.0.4)\n",
      "Requirement already satisfied: idna<4,>=2.5 in c:\\users\\ctoukmaj\\appdata\\local\\anaconda3\\lib\\site-packages (from requests>=2.20->openai) (3.4)\n",
      "Requirement already satisfied: aiosignal>=1.1.2 in c:\\users\\ctoukmaj\\appdata\\local\\anaconda3\\lib\\site-packages (from aiohttp->openai) (1.3.1)\n",
      "Requirement already satisfied: yarl<2.0,>=1.0 in c:\\users\\ctoukmaj\\appdata\\local\\anaconda3\\lib\\site-packages (from aiohttp->openai) (1.9.2)\n",
      "Requirement already satisfied: multidict<7.0,>=4.5 in c:\\users\\ctoukmaj\\appdata\\local\\anaconda3\\lib\\site-packages (from aiohttp->openai) (6.0.4)\n",
      "Requirement already satisfied: async-timeout<5.0,>=4.0.0a3 in c:\\users\\ctoukmaj\\appdata\\local\\anaconda3\\lib\\site-packages (from aiohttp->openai) (4.0.2)\n",
      "Requirement already satisfied: attrs>=17.3.0 in c:\\users\\ctoukmaj\\appdata\\local\\anaconda3\\lib\\site-packages (from aiohttp->openai) (22.1.0)\n",
      "Requirement already satisfied: frozenlist>=1.1.1 in c:\\users\\ctoukmaj\\appdata\\local\\anaconda3\\lib\\site-packages (from aiohttp->openai) (1.4.0)\n",
      "Requirement already satisfied: colorama in c:\\users\\ctoukmaj\\appdata\\local\\anaconda3\\lib\\site-packages (from tqdm->openai) (0.4.6)\n",
      "Requirement already satisfied: python-decouple==3.8 in c:\\users\\ctoukmaj\\appdata\\local\\anaconda3\\lib\\site-packages (3.8)\n"
     ]
    }
   ],
   "source": [
    "!pip install openai\n",
    "!pip install python-decouple==3.8"
   ]
  },
  {
   "cell_type": "code",
   "execution_count": 1,
   "metadata": {},
   "outputs": [],
   "source": [
    "import json\n",
    "import openai\n",
    "from decouple import config\n",
    "import requests"
   ]
  },
  {
   "cell_type": "code",
   "execution_count": 21,
   "metadata": {},
   "outputs": [],
   "source": [
    "OPEN_API_KEY = config('OPENAI_API_KEY')\n",
    "openai.api_key = OPEN_API_KEY"
   ]
  },
  {
   "cell_type": "markdown",
   "metadata": {},
   "source": [
    "# Prompt ChatGPT for prompts to query databases with"
   ]
  },
  {
   "cell_type": "code",
   "execution_count": 5,
   "metadata": {},
   "outputs": [],
   "source": [
    "question = \"How can we design a vehicle to travel from Sydney to USA in one hour?\"\n",
    "\n",
    "messages = []\n",
    "messages.append({'role': 'user', \n",
    "'content': f\"\"\"I want to query an academic database to answer the question \"{question}\". \\\n",
    "Provide only the search query in a JSON without any additional text in the following format. \\\n",
    "{{\"queries\": [\"query1\", \"query2\"]}}\"\"\"})\n",
    "\n",
    "\n",
    "response = openai.ChatCompletion.create(\n",
    "            model=\"gpt-4\",\n",
    "            messages=messages,\n",
    "            temperature=0,\n",
    "        )\n"
   ]
  },
  {
   "cell_type": "code",
   "execution_count": 6,
   "metadata": {},
   "outputs": [
    {
     "data": {
      "text/plain": [
       "[{'role': 'user',\n",
       "  'content': 'I want to query an academic database to answer the question \"How can we design a vehicle to travel from Sydney to USA in one hour?\". Provide only the search query in a JSON without any additional text in the following format. {\"queries\": [\"query1\", \"query2\"]}'}]"
      ]
     },
     "execution_count": 6,
     "metadata": {},
     "output_type": "execute_result"
    }
   ],
   "source": [
    "messages"
   ]
  },
  {
   "cell_type": "code",
   "execution_count": 7,
   "metadata": {},
   "outputs": [
    {
     "data": {
      "text/plain": [
       "<OpenAIObject chat.completion id=chatcmpl-7jDmssOQPUegaduCzeAGq1pxWNEGw at 0x10858023fb0> JSON: {\n",
       "  \"id\": \"chatcmpl-7jDmssOQPUegaduCzeAGq1pxWNEGw\",\n",
       "  \"object\": \"chat.completion\",\n",
       "  \"created\": 1691012114,\n",
       "  \"model\": \"gpt-4-0613\",\n",
       "  \"choices\": [\n",
       "    {\n",
       "      \"index\": 0,\n",
       "      \"message\": {\n",
       "        \"role\": \"assistant\",\n",
       "        \"content\": \"{\\\"queries\\\": [\\\"Design principles for hypersonic vehicles\\\", \\\"Advancements in hypersonic travel\\\", \\\"Challenges in transcontinental hypersonic travel\\\", \\\"Propulsion systems for hypersonic vehicles\\\", \\\"Materials for high-speed aerospace vehicles\\\", \\\"Fuel efficiency in hypersonic vehicles\\\", \\\"Safety measures in hypersonic travel\\\"]}\"\n",
       "      },\n",
       "      \"finish_reason\": \"stop\"\n",
       "    }\n",
       "  ],\n",
       "  \"usage\": {\n",
       "    \"prompt_tokens\": 64,\n",
       "    \"completion_tokens\": 62,\n",
       "    \"total_tokens\": 126\n",
       "  }\n",
       "}"
      ]
     },
     "execution_count": 7,
     "metadata": {},
     "output_type": "execute_result"
    }
   ],
   "source": [
    "response"
   ]
  },
  {
   "cell_type": "code",
   "execution_count": 8,
   "metadata": {},
   "outputs": [],
   "source": [
    "jsonstring = response['choices'][0]['message']['content']\n",
    "jsonstring = \"\" + jsonstring"
   ]
  },
  {
   "cell_type": "code",
   "execution_count": 9,
   "metadata": {},
   "outputs": [
    {
     "data": {
      "text/plain": [
       "['Design principles for hypersonic vehicles',\n",
       " 'Advancements in hypersonic travel',\n",
       " 'Challenges in transcontinental hypersonic travel',\n",
       " 'Propulsion systems for hypersonic vehicles',\n",
       " 'Materials for high-speed aerospace vehicles',\n",
       " 'Fuel efficiency in hypersonic vehicles',\n",
       " 'Safety measures in hypersonic travel']"
      ]
     },
     "execution_count": 9,
     "metadata": {},
     "output_type": "execute_result"
    }
   ],
   "source": [
    "query_list = json.loads(jsonstring)\n",
    "query_list['queries']"
   ]
  },
  {
   "cell_type": "code",
   "execution_count": 29,
   "metadata": {},
   "outputs": [],
   "source": [
    "results = requests.get('https://api.semanticscholar.org/graph/v1/paper/search?query=covid+vaccination&offset=100&limit=3')"
   ]
  },
  {
   "cell_type": "code",
   "execution_count": 30,
   "metadata": {},
   "outputs": [],
   "source": [
    "json_results = json.loads(results.text)"
   ]
  },
  {
   "cell_type": "code",
   "execution_count": 31,
   "metadata": {},
   "outputs": [
    {
     "data": {
      "text/plain": [
       "{'total': 1170604,\n",
       " 'offset': 100,\n",
       " 'next': 103,\n",
       " 'data': [{'paperId': '15241c09b59f6b1bbfa69867a29b554dff0cd04c',\n",
       "   'title': 'Willingness to vaccinate against COVID-19 among Bangladeshi adults: Understanding the strategies to optimize vaccination coverage'},\n",
       "  {'paperId': 'edd135e5dc5dbfe3f54c7d9f8be08706b06c779f',\n",
       "   'title': 'Healthcare workers’ (HCWs) attitudes and related factors towards COVID-19 vaccination: a rapid systematic review'},\n",
       "  {'paperId': '73326621034f67beab8a6834345270b0379e47ec',\n",
       "   'title': 'Myocarditis and Pericarditis After Vaccination for COVID-19.'}]}"
      ]
     },
     "execution_count": 31,
     "metadata": {},
     "output_type": "execute_result"
    }
   ],
   "source": [
    "json_results"
   ]
  },
  {
   "cell_type": "code",
   "execution_count": 32,
   "metadata": {},
   "outputs": [
    {
     "name": "stdout",
     "output_type": "stream",
     "text": [
      "Willingness to vaccinate against COVID-19 among Bangladeshi adults: Understanding the strategies to optimize vaccination coverage\n",
      "Healthcare workers’ (HCWs) attitudes and related factors towards COVID-19 vaccination: a rapid systematic review\n",
      "Myocarditis and Pericarditis After Vaccination for COVID-19.\n"
     ]
    }
   ],
   "source": [
    "for paper in json_results['data']:\n",
    "    print(paper['title'])"
   ]
  },
  {
   "cell_type": "code",
   "execution_count": 33,
   "metadata": {},
   "outputs": [],
   "source": [
    "def stringToAPIformat(string1):\n",
    "    string1 = string1.replace(\" \", \"+\")\n",
    "    return string1\n",
    "assert stringToAPIformat(\"Hello there\") == \"Hello+there\""
   ]
  },
  {
   "cell_type": "code",
   "execution_count": 34,
   "metadata": {},
   "outputs": [
    {
     "name": "stdout",
     "output_type": "stream",
     "text": [
      "Top 3 titles for query: 'Design principles for hypersonic vehicles'\n",
      "\tDesign and numerical simulation of a clamshell-shaped inlet cover for air-breathing hypersonic vehicles\n",
      "\tDesign and numerical simulation of a clamshell-shaped inlet cover for air-breathing hypersonic vehicles\n",
      "\tDesign of Dual-Mode Engine Flowpaths for Hypersonic Vehicles Using Reduced-Order Models\n",
      "\n",
      "\n",
      "Top 3 titles for query: 'Advancements in hypersonic travel'\n",
      "\tNumerical study of a stepped aerospike design at various Mach numbers\n",
      "\tCOMPRESSIBLE FLOW SIMULATIONS FOR SHOCK TUBE PERFORMANCE ANALYSIS\n",
      "\n",
      "\n",
      "Top 3 titles for query: 'Challenges in transcontinental hypersonic travel'\n",
      "No papers found \n",
      "\n",
      "Top 3 titles for query: 'Propulsion systems for hypersonic vehicles'\n",
      "\tSupersonic Combustion in Air-Breathing Propulsion Systems for Hypersonic Flight\n",
      "\tSupersonic Combustion in Air-Breathing Propulsion Systems for Hypersonic Flight\n",
      "\tHYPERSONIC PROPULSION SYSTEMS – A REVIEW OF DESIGN SOLUTIONS\n",
      "\n",
      "\n",
      "Top 3 titles for query: 'Materials for high-speed aerospace vehicles'\n",
      "\tInnovation in China\n",
      "\tOverview of Mobile Flywheel Energy Storage Systems State-Of-The-Art\n",
      "\tLinear Electric Motors for Aerospace Launch Assist\n",
      "\n",
      "\n",
      "Top 3 titles for query: 'Fuel efficiency in hypersonic vehicles'\n",
      "\tScramjet Operation Guaranteed Longitudinal Control of Air-Breathing Hypersonic Vehicles\n",
      "\tFlameout and combustion efficiency of scramjet-powered hypersonic vehicles during ascent\n",
      "\tGeneral Periodic Cruise Guidance Optimization for Hypersonic Vehicles\n",
      "\n",
      "\n",
      "Top 3 titles for query: 'Safety measures in hypersonic travel'\n",
      "No papers found \n",
      "\n"
     ]
    }
   ],
   "source": [
    "number_of_papers_to_retrieve = 3\n",
    "data_to_retrieve = \"title\" # could be \"abstract\", \"title\"\n",
    "# look into passing paper, getting summary \n",
    "\n",
    "\n",
    "for query in query_list['queries']:\n",
    "    URLtoGET = f'https://api.semanticscholar.org/graph/v1/paper/search?query={stringToAPIformat(query)}&limit={number_of_papers_to_retrieve}&fields={data_to_retrieve}'\n",
    "    GETresult = requests.get(URLtoGET)\n",
    "    json_GETresult = json.loads(GETresult.text)\n",
    "    print(f\"Top {number_of_papers_to_retrieve} {data_to_retrieve}s for query: '{query}'\")\n",
    "    if json_GETresult['total'] == 0:\n",
    "        print(\"No papers found \\n\")\n",
    "        continue\n",
    "    for paper in json_GETresult['data']:\n",
    "        print(\"\\t\" + paper[data_to_retrieve])\n",
    "    print(\"\\n\")\n",
    "    "
   ]
  }
 ],
 "metadata": {
  "kernelspec": {
   "display_name": "base",
   "language": "python",
   "name": "python3"
  },
  "language_info": {
   "codemirror_mode": {
    "name": "ipython",
    "version": 3
   },
   "file_extension": ".py",
   "mimetype": "text/x-python",
   "name": "python",
   "nbconvert_exporter": "python",
   "pygments_lexer": "ipython3",
   "version": "3.10.9"
  },
  "orig_nbformat": 4
 },
 "nbformat": 4,
 "nbformat_minor": 2
}
