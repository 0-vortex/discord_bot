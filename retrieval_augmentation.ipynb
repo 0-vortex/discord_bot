{
 "cells": [
  {
   "cell_type": "markdown",
   "metadata": {},
   "source": [
    "# Install Dependencies\n"
   ]
  },
  {
   "cell_type": "code",
   "execution_count": 1,
   "metadata": {},
   "outputs": [
    {
     "name": "stdout",
     "output_type": "stream",
     "text": [
      "<!doctype html>\n",
      "<html lang=en>\n",
      "<title>Redirecting...</title>\n",
      "<h1>Redirecting...</h1>\n",
      "<p>You should be redirected automatically to the target URL: <a href=\"https://www.semanticscholar.org/product/api\">https://www.semanticscholar.org/product/api</a>. If not, click the link.\n"
     ]
    },
    {
     "name": "stderr",
     "output_type": "stream",
     "text": [
      "  % Total    % Received % Xferd  Average Speed   Time    Time     Time  Current\n",
      "                                 Dload  Upload   Total   Spent    Left  Speed\n",
      "\n",
      "  0     0    0     0    0     0      0      0 --:--:-- --:--:-- --:--:--     0\n",
      "  0     0    0     0    0     0      0      0 --:--:--  0:00:01 --:--:--     0\n",
      "100   273  100   273    0     0    161      0  0:00:01  0:00:01 --:--:--   161\n"
     ]
    }
   ],
   "source": [
    "!curl -Hx-api-key:\"7wjJOwaiWM73wSrEHQljH69ZyAJ5VG2376XzAwRH\" https://api.semanticscholar.org/"
   ]
  },
  {
   "cell_type": "code",
   "execution_count": 2,
   "metadata": {},
   "outputs": [],
   "source": [
    "import json\n",
    "import openai\n",
    "from decouple import config\n",
    "import requests"
   ]
  },
  {
   "cell_type": "code",
   "execution_count": 3,
   "metadata": {},
   "outputs": [],
   "source": [
    "OPEN_API_KEY = config('OPENAI_API_KEY')\n",
    "openai.api_key = OPEN_API_KEY"
   ]
  },
  {
   "cell_type": "markdown",
   "metadata": {},
   "source": [
    "# Prompt ChatGPT for prompts to query databases with"
   ]
  },
  {
   "cell_type": "code",
   "execution_count": 4,
   "metadata": {},
   "outputs": [],
   "source": [
    "question = \"How can we design a vehicle to travel from Sydney to USA in one hour?\"\n",
    "\n",
    "messages = []\n",
    "messages.append({'role': 'user', \n",
    "'content': f\"\"\"You are BIDARA, a biomimetic designer and research assistant, and a leading expert in biomimicry, biology, engineering, industrial design, environmental science, physiology, and paleontology. Focus on understanding, learning from, and emulating the strategies used by living things, with the intention of creating designs and technologies that are sustainable.\\n\\n\" \\\n",
    "\"Your goal is to help the user work in a step by step way through the Biomimicry Design Process to propose biomimetic solutions to a challenge. Cite peer reviewed sources for your information.\\n\\n\" \\\n",
    "I want you to provide a query to an academic database for each of the biomimetic solutions you've developed. \\\n",
    "Provide the search query in a JSON in the following format. \\\n",
    "{{\"queries\": {\"biological_idea1:query1\"}, {\"biological_idea2:query2\"}}} \\\n",
    "\"1. Biologize - Analyze the essential functions and context your design challenge must address. Reframe them in biological terms, so that you can “ask nature” for advice. The goal of this step is to arrive at one or more “How does nature…?” questions that can guide your research as you look for biological models in the next step. To broaden the range of potential solutions, turn your question(s) around and consider opposite, or tangential functions. For example, if your biologized question is “How does nature retain liquids?”, you could also ask “How does nature repel liquids?” because similar mechanisms could be at work in both scenarios (i.e. controlling the movement of a liquid). Or if you are interested in silent flight and you know that flight noise is a consequence of turbulence, you might also ask how nature reduces turbulence in water, because air and water share similar fluid dynamics.\\n\" \\\n",
    "\"2. Discover - Look for natural models (organisms and ecosystems) that need to address the same functions and context as your design solution. Identify the strategies used that support their survival and success. This step focuses on research and information gathering. You want to generate as many possible sources for inspiration as you can, using your “how does nature…” questions (from the Biologize step) as a guide. Look across multiple species, ecosystems, and scales and learn everything you can about the varied ways that nature has adapted to the functions and contexts relevant to your challenge.\\n\" \\\n",
    "\"3. Abstract - Carefully study the essential features or mechanisms that make the biological strategy successful. Write a design strategy that describes how the features work to meet the function(s) you’re interested in in great detail. Try to come up with discipline-neutral synonyms for any biological terms (e.g. replace “fur” with “fibers,” or “skin” with “membrane”) while staying true to the science. The design strategy should clearly address the function(s) you want to meet within the context it will be used. It is not a statement about your design or solution; it’s a launching pad for brainstorming possible solutions. Stay true to the biology. Don’t jump to conclusions about what your design will be; just capture the strategy so that you can stay open to possibilities. When you are done, review your design strategy with a critical eye. Have you included all of the pertinent information? Does your design strategy capture the lesson from nature that drew you to the biological strategy in the first place? Does it give you new insights or simply validate existing design approaches?\\n\\n\" \\\n",
    "\"Here’s a simply stated biological strategy:\\n\" \\\n",
    "\"The polar bear’s fur has an external layer of hollow, translucent (not white) guard hairs that transmit heat from sunlight to warm the bear’s skin, while a dense underfur prevents the warmth from radiating back out.\\n\\n\" \\\n",
    "\"A designer might be able to brainstorm design solutions using just that. But more often, in order to actually create a design based on what we can learn from biology, it helps to remove biological terms and restate it in design language.\\n\\n\" \\\n",
    "\"Here’s a design strategy based on the same biological strategy:\\n\" \\\n",
    "\"A covering keeps heat inside by having many translucent tubes that transmit heat from sunlight to warm the inner surface, while next to the inner surface, a dense covering of smaller diameter fibers prevents warmth from radiating back out.\\n\\n\" \\\n",
    "\"Stating the strategy this way makes it easier to translate it into a design application. (An even more detailed design strategy might talk about the length of the fibers or the number of fibers per square centimeter, e.g., if that information is important and its analog can be found in the biological literature.)\") \\\n",
    "\"\\n\\n{question}\" \\\n",
    "\"\"\"})\n",
    "\n",
    "\n",
    "response = openai.ChatCompletion.create(\n",
    "            model=\"gpt-4\",\n",
    "            messages=messages,\n",
    "            temperature=0,\n",
    "        )\n"
   ]
  },
  {
   "cell_type": "code",
   "execution_count": 5,
   "metadata": {},
   "outputs": [
    {
     "data": {
      "text/plain": [
       "[{'role': 'user',\n",
       "  'content': 'You are BIDARA, a biomimetic designer and research assistant, and a leading expert in biomimicry, biology, engineering, industrial design, environmental science, physiology, and paleontology. Focus on understanding, learning from, and emulating the strategies used by living things, with the intention of creating designs and technologies that are sustainable.\\n\\n\" \"Your goal is to help the user work in a step by step way through the Biomimicry Design Process to propose biomimetic solutions to a challenge. Cite peer reviewed sources for your information.\\n\\n\" I want you to provide a query to an academic database for each of the biological ideas you\\'ve developed. Provide the search query in a JSON in the following format. {{\"queries\": {\"biological_idea1:query1\"}, {\"biological_idea2:query2\"}} \"1. Biologize - Analyze the essential functions and context your design challenge must address. Reframe them in biological terms, so that you can “ask nature” for advice. The goal of this step is to arrive at one or more “How does nature…?” questions that can guide your research as you look for biological models in the next step. To broaden the range of potential solutions, turn your question(s) around and consider opposite, or tangential functions. For example, if your biologized question is “How does nature retain liquids?”, you could also ask “How does nature repel liquids?” because similar mechanisms could be at work in both scenarios (i.e. controlling the movement of a liquid). Or if you are interested in silent flight and you know that flight noise is a consequence of turbulence, you might also ask how nature reduces turbulence in water, because air and water share similar fluid dynamics.\\n\" \"2. Discover - Look for natural models (organisms and ecosystems) that need to address the same functions and context as your design solution. Identify the strategies used that support their survival and success. This step focuses on research and information gathering. You want to generate as many possible sources for inspiration as you can, using your “how does nature…” questions (from the Biologize step) as a guide. Look across multiple species, ecosystems, and scales and learn everything you can about the varied ways that nature has adapted to the functions and contexts relevant to your challenge.\\n\" \"3. Abstract - Carefully study the essential features or mechanisms that make the biological strategy successful. Write a design strategy that describes how the features work to meet the function(s) you’re interested in in great detail. Try to come up with discipline-neutral synonyms for any biological terms (e.g. replace “fur” with “fibers,” or “skin” with “membrane”) while staying true to the science. The design strategy should clearly address the function(s) you want to meet within the context it will be used. It is not a statement about your design or solution; it’s a launching pad for brainstorming possible solutions. Stay true to the biology. Don’t jump to conclusions about what your design will be; just capture the strategy so that you can stay open to possibilities. When you are done, review your design strategy with a critical eye. Have you included all of the pertinent information? Does your design strategy capture the lesson from nature that drew you to the biological strategy in the first place? Does it give you new insights or simply validate existing design approaches?\\n\\n\" \"Here’s a simply stated biological strategy:\\n\" \"The polar bear’s fur has an external layer of hollow, translucent (not white) guard hairs that transmit heat from sunlight to warm the bear’s skin, while a dense underfur prevents the warmth from radiating back out.\\n\\n\" \"A designer might be able to brainstorm design solutions using just that. But more often, in order to actually create a design based on what we can learn from biology, it helps to remove biological terms and restate it in design language.\\n\\n\" \"Here’s a design strategy based on the same biological strategy:\\n\" \"A covering keeps heat inside by having many translucent tubes that transmit heat from sunlight to warm the inner surface, while next to the inner surface, a dense covering of smaller diameter fibers prevents warmth from radiating back out.\\n\\n\" \"Stating the strategy this way makes it easier to translate it into a design application. (An even more detailed design strategy might talk about the length of the fibers or the number of fibers per square centimeter, e.g., if that information is important and its analog can be found in the biological literature.)\") '}]"
      ]
     },
     "execution_count": 5,
     "metadata": {},
     "output_type": "execute_result"
    }
   ],
   "source": [
    "messages"
   ]
  },
  {
   "cell_type": "code",
   "execution_count": 6,
   "metadata": {},
   "outputs": [
    {
     "data": {
      "text/plain": [
       "<OpenAIObject chat.completion id=chatcmpl-7jY2jJAKyMChEAjGyrJwXH51TUVsk at 0x2604e0c7b50> JSON: {\n",
       "  \"id\": \"chatcmpl-7jY2jJAKyMChEAjGyrJwXH51TUVsk\",\n",
       "  \"object\": \"chat.completion\",\n",
       "  \"created\": 1691089977,\n",
       "  \"model\": \"gpt-4-0613\",\n",
       "  \"choices\": [\n",
       "    {\n",
       "      \"index\": 0,\n",
       "      \"message\": {\n",
       "        \"role\": \"assistant\",\n",
       "        \"content\": \"\\\"4. Emulate - Translate the design strategy into a design concept. This is where you brainstorm possible solutions that use the design strategy you\\u2019ve developed. You might come up with a single design concept or several. The goal is to create a design that meets the function(s) you\\u2019re interested in, within the context it will be used. You might need to iterate between the Abstract and Emulate steps as you learn more about the design constraints and opportunities. \\n\\n\\\" \\\"5. Evaluate - Test your design concept(s) to see if they meet the function(s) and context you\\u2019re interested in. This might involve building a prototype, running simulations, or doing a life cycle assessment. You might need to iterate between the Emulate and Evaluate steps as you refine your design concept. \\n\\n\\\" \\\"6. Communicate - Share your design concept and the biological strategy that inspired it. This might involve writing a report, giving a presentation, or creating a video. The goal is to help others understand how you used biomimicry to arrive at your design concept, and to inspire them to use biomimicry in their own work.\\n\\n\\\" \\\"Here are some example queries for the biological ideas developed:\\n\\n\\\" \\\"{ \\\"queries\\\": { \\\"biological_idea1\\\": \\\"How does nature retain and repel liquids?\\\", \\\"biological_idea2\\\": \\\"How does nature reduce turbulence in air and water?\\\", \\\"biological_idea3\\\": \\\"How does the polar bear's fur transmit heat from sunlight and prevent it from radiating back out?\\\" } }\\\"\\n\\n\\\" \\\"These queries can be used in academic databases like PubMed, Web of Science, or Google Scholar to find peer-reviewed articles that provide more information about these biological strategies. For example, the first query might lead to articles about the hydrophobic properties of lotus leaves or the capillary action in trees. The second query might lead to articles about the streamlined shapes of fish or the way that birds adjust their wing shape to reduce drag. The third query might lead to articles about the structure and function of polar bear fur, or about other animals that use similar strategies to regulate their body temperature.\"\n",
       "      },\n",
       "      \"finish_reason\": \"stop\"\n",
       "    }\n",
       "  ],\n",
       "  \"usage\": {\n",
       "    \"prompt_tokens\": 928,\n",
       "    \"completion_tokens\": 433,\n",
       "    \"total_tokens\": 1361\n",
       "  }\n",
       "}"
      ]
     },
     "execution_count": 6,
     "metadata": {},
     "output_type": "execute_result"
    }
   ],
   "source": [
    "response"
   ]
  },
  {
   "cell_type": "code",
   "execution_count": 10,
   "metadata": {},
   "outputs": [
    {
     "name": "stdout",
     "output_type": "stream",
     "text": [
      "You are BIDARA, a biomimetic designer and research assistant, and a leading expert in biomimicry, biology, engineering, industrial design, environmental science, physiology, and paleontology. Focus on understanding, learning from, and emulating the strategies used by living things, with the intention of creating designs and technologies that are sustainable.\n",
      "\n",
      "\" \"Your goal is to help the user work in a step by step way through the Biomimicry Design Process to propose biomimetic solutions to a challenge. Cite peer reviewed sources for your information.\n",
      "\n",
      "\" I want you to provide a query to an academic database for each of the biological ideas you've developed. Provide the search query in a JSON in the following format. {{\"queries\": {\"biological_idea1:query1\"}, {\"biological_idea2:query2\"}} \"1. Biologize - Analyze the essential functions and context your design challenge must address. Reframe them in biological terms, so that you can “ask nature” for advice. The goal of this step is to arrive at one or more “How does nature…?” questions that can guide your research as you look for biological models in the next step. To broaden the range of potential solutions, turn your question(s) around and consider opposite, or tangential functions. For example, if your biologized question is “How does nature retain liquids?”, you could also ask “How does nature repel liquids?” because similar mechanisms could be at work in both scenarios (i.e. controlling the movement of a liquid). Or if you are interested in silent flight and you know that flight noise is a consequence of turbulence, you might also ask how nature reduces turbulence in water, because air and water share similar fluid dynamics.\n",
      "\" \"2. Discover - Look for natural models (organisms and ecosystems) that need to address the same functions and context as your design solution. Identify the strategies used that support their survival and success. This step focuses on research and information gathering. You want to generate as many possible sources for inspiration as you can, using your “how does nature…” questions (from the Biologize step) as a guide. Look across multiple species, ecosystems, and scales and learn everything you can about the varied ways that nature has adapted to the functions and contexts relevant to your challenge.\n",
      "\" \"3. Abstract - Carefully study the essential features or mechanisms that make the biological strategy successful. Write a design strategy that describes how the features work to meet the function(s) you’re interested in in great detail. Try to come up with discipline-neutral synonyms for any biological terms (e.g. replace “fur” with “fibers,” or “skin” with “membrane”) while staying true to the science. The design strategy should clearly address the function(s) you want to meet within the context it will be used. It is not a statement about your design or solution; it’s a launching pad for brainstorming possible solutions. Stay true to the biology. Don’t jump to conclusions about what your design will be; just capture the strategy so that you can stay open to possibilities. When you are done, review your design strategy with a critical eye. Have you included all of the pertinent information? Does your design strategy capture the lesson from nature that drew you to the biological strategy in the first place? Does it give you new insights or simply validate existing design approaches?\n",
      "\n",
      "\" \"Here’s a simply stated biological strategy:\n",
      "\" \"The polar bear’s fur has an external layer of hollow, translucent (not white) guard hairs that transmit heat from sunlight to warm the bear’s skin, while a dense underfur prevents the warmth from radiating back out.\n",
      "\n",
      "\" \"A designer might be able to brainstorm design solutions using just that. But more often, in order to actually create a design based on what we can learn from biology, it helps to remove biological terms and restate it in design language.\n",
      "\n",
      "\" \"Here’s a design strategy based on the same biological strategy:\n",
      "\" \"A covering keeps heat inside by having many translucent tubes that transmit heat from sunlight to warm the inner surface, while next to the inner surface, a dense covering of smaller diameter fibers prevents warmth from radiating back out.\n",
      "\n",
      "\" \"Stating the strategy this way makes it easier to translate it into a design application. (An even more detailed design strategy might talk about the length of the fibers or the number of fibers per square centimeter, e.g., if that information is important and its analog can be found in the biological literature.)\") \n"
     ]
    }
   ],
   "source": [
    "print(messages[0]['content'])"
   ]
  },
  {
   "cell_type": "code",
   "execution_count": 11,
   "metadata": {},
   "outputs": [
    {
     "name": "stdout",
     "output_type": "stream",
     "text": [
      "\"4. Emulate - Translate the design strategy into a design concept. This is where you brainstorm possible solutions that use the design strategy you’ve developed. You might come up with a single design concept or several. The goal is to create a design that meets the function(s) you’re interested in, within the context it will be used. You might need to iterate between the Abstract and Emulate steps as you learn more about the design constraints and opportunities. \n",
      "\n",
      "\" \"5. Evaluate - Test your design concept(s) to see if they meet the function(s) and context you’re interested in. This might involve building a prototype, running simulations, or doing a life cycle assessment. You might need to iterate between the Emulate and Evaluate steps as you refine your design concept. \n",
      "\n",
      "\" \"6. Communicate - Share your design concept and the biological strategy that inspired it. This might involve writing a report, giving a presentation, or creating a video. The goal is to help others understand how you used biomimicry to arrive at your design concept, and to inspire them to use biomimicry in their own work.\n",
      "\n",
      "\" \"Here are some example queries for the biological ideas developed:\n",
      "\n",
      "\" \"{ \"queries\": { \"biological_idea1\": \"How does nature retain and repel liquids?\", \"biological_idea2\": \"How does nature reduce turbulence in air and water?\", \"biological_idea3\": \"How does the polar bear's fur transmit heat from sunlight and prevent it from radiating back out?\" } }\"\n",
      "\n",
      "\" \"These queries can be used in academic databases like PubMed, Web of Science, or Google Scholar to find peer-reviewed articles that provide more information about these biological strategies. For example, the first query might lead to articles about the hydrophobic properties of lotus leaves or the capillary action in trees. The second query might lead to articles about the streamlined shapes of fish or the way that birds adjust their wing shape to reduce drag. The third query might lead to articles about the structure and function of polar bear fur, or about other animals that use similar strategies to regulate their body temperature.\n"
     ]
    }
   ],
   "source": [
    "print(response['choices'][0]['message']['content'])"
   ]
  },
  {
   "cell_type": "code",
   "execution_count": 8,
   "metadata": {},
   "outputs": [],
   "source": [
    "jsonstring = response['choices'][0]['message']['content']\n",
    "jsonstring = \"\" + jsonstring"
   ]
  },
  {
   "cell_type": "code",
   "execution_count": 9,
   "metadata": {},
   "outputs": [
    {
     "data": {
      "text/plain": [
       "['Design principles for hypersonic vehicles',\n",
       " 'Advancements in hypersonic travel',\n",
       " 'Challenges in transcontinental hypersonic travel',\n",
       " 'Propulsion systems for hypersonic vehicles',\n",
       " 'Materials for high-speed aerospace vehicles',\n",
       " 'Fuel efficiency in hypersonic vehicles',\n",
       " 'Safety measures in hypersonic travel']"
      ]
     },
     "execution_count": 9,
     "metadata": {},
     "output_type": "execute_result"
    }
   ],
   "source": [
    "query_list = json.loads(jsonstring)\n",
    "query_list['queries']"
   ]
  },
  {
   "cell_type": "code",
   "execution_count": 29,
   "metadata": {},
   "outputs": [],
   "source": [
    "results = requests.get('https://api.semanticscholar.org/graph/v1/paper/search?query=covid+vaccination&offset=100&limit=3')"
   ]
  },
  {
   "cell_type": "code",
   "execution_count": 30,
   "metadata": {},
   "outputs": [],
   "source": [
    "json_results = json.loads(results.text)"
   ]
  },
  {
   "cell_type": "code",
   "execution_count": 31,
   "metadata": {},
   "outputs": [
    {
     "data": {
      "text/plain": [
       "{'total': 1170604,\n",
       " 'offset': 100,\n",
       " 'next': 103,\n",
       " 'data': [{'paperId': '15241c09b59f6b1bbfa69867a29b554dff0cd04c',\n",
       "   'title': 'Willingness to vaccinate against COVID-19 among Bangladeshi adults: Understanding the strategies to optimize vaccination coverage'},\n",
       "  {'paperId': 'edd135e5dc5dbfe3f54c7d9f8be08706b06c779f',\n",
       "   'title': 'Healthcare workers’ (HCWs) attitudes and related factors towards COVID-19 vaccination: a rapid systematic review'},\n",
       "  {'paperId': '73326621034f67beab8a6834345270b0379e47ec',\n",
       "   'title': 'Myocarditis and Pericarditis After Vaccination for COVID-19.'}]}"
      ]
     },
     "execution_count": 31,
     "metadata": {},
     "output_type": "execute_result"
    }
   ],
   "source": [
    "json_results"
   ]
  },
  {
   "cell_type": "code",
   "execution_count": 32,
   "metadata": {},
   "outputs": [
    {
     "name": "stdout",
     "output_type": "stream",
     "text": [
      "Willingness to vaccinate against COVID-19 among Bangladeshi adults: Understanding the strategies to optimize vaccination coverage\n",
      "Healthcare workers’ (HCWs) attitudes and related factors towards COVID-19 vaccination: a rapid systematic review\n",
      "Myocarditis and Pericarditis After Vaccination for COVID-19.\n"
     ]
    }
   ],
   "source": [
    "for paper in json_results['data']:\n",
    "    print(paper['title'])"
   ]
  },
  {
   "cell_type": "code",
   "execution_count": 33,
   "metadata": {},
   "outputs": [],
   "source": [
    "def stringToAPIformat(string1):\n",
    "    string1 = string1.replace(\" \", \"+\")\n",
    "    return string1\n",
    "assert stringToAPIformat(\"Hello there\") == \"Hello+there\""
   ]
  },
  {
   "cell_type": "code",
   "execution_count": 34,
   "metadata": {},
   "outputs": [
    {
     "name": "stdout",
     "output_type": "stream",
     "text": [
      "Top 3 titles for query: 'Design principles for hypersonic vehicles'\n",
      "\tDesign and numerical simulation of a clamshell-shaped inlet cover for air-breathing hypersonic vehicles\n",
      "\tDesign and numerical simulation of a clamshell-shaped inlet cover for air-breathing hypersonic vehicles\n",
      "\tDesign of Dual-Mode Engine Flowpaths for Hypersonic Vehicles Using Reduced-Order Models\n",
      "\n",
      "\n",
      "Top 3 titles for query: 'Advancements in hypersonic travel'\n",
      "\tNumerical study of a stepped aerospike design at various Mach numbers\n",
      "\tCOMPRESSIBLE FLOW SIMULATIONS FOR SHOCK TUBE PERFORMANCE ANALYSIS\n",
      "\n",
      "\n",
      "Top 3 titles for query: 'Challenges in transcontinental hypersonic travel'\n",
      "No papers found \n",
      "\n",
      "Top 3 titles for query: 'Propulsion systems for hypersonic vehicles'\n",
      "\tSupersonic Combustion in Air-Breathing Propulsion Systems for Hypersonic Flight\n",
      "\tSupersonic Combustion in Air-Breathing Propulsion Systems for Hypersonic Flight\n",
      "\tHYPERSONIC PROPULSION SYSTEMS – A REVIEW OF DESIGN SOLUTIONS\n",
      "\n",
      "\n",
      "Top 3 titles for query: 'Materials for high-speed aerospace vehicles'\n",
      "\tInnovation in China\n",
      "\tOverview of Mobile Flywheel Energy Storage Systems State-Of-The-Art\n",
      "\tLinear Electric Motors for Aerospace Launch Assist\n",
      "\n",
      "\n",
      "Top 3 titles for query: 'Fuel efficiency in hypersonic vehicles'\n",
      "\tScramjet Operation Guaranteed Longitudinal Control of Air-Breathing Hypersonic Vehicles\n",
      "\tFlameout and combustion efficiency of scramjet-powered hypersonic vehicles during ascent\n",
      "\tGeneral Periodic Cruise Guidance Optimization for Hypersonic Vehicles\n",
      "\n",
      "\n",
      "Top 3 titles for query: 'Safety measures in hypersonic travel'\n",
      "No papers found \n",
      "\n"
     ]
    }
   ],
   "source": [
    "number_of_papers_to_retrieve = 3\n",
    "data_to_retrieve = \"title\" # could be \"abstract\", \"title\"\n",
    "# look into passing paper, getting summary \n",
    "\n",
    "\n",
    "for query in query_list['queries']:\n",
    "    URLtoGET = f'https://api.semanticscholar.org/graph/v1/paper/search?query={stringToAPIformat(query)}&limit={number_of_papers_to_retrieve}&fields={data_to_retrieve}'\n",
    "    GETresult = requests.get(URLtoGET)\n",
    "    json_GETresult = json.loads(GETresult.text)\n",
    "    print(f\"Top {number_of_papers_to_retrieve} {data_to_retrieve}s for query: '{query}'\")\n",
    "    if json_GETresult['total'] == 0:\n",
    "        print(\"No papers found \\n\")\n",
    "        continue\n",
    "    for paper in json_GETresult['data']:\n",
    "        print(\"\\t\" + paper[data_to_retrieve])\n",
    "    print(\"\\n\")\n",
    "    "
   ]
  }
 ],
 "metadata": {
  "kernelspec": {
   "display_name": "base",
   "language": "python",
   "name": "python3"
  },
  "language_info": {
   "codemirror_mode": {
    "name": "ipython",
    "version": 3
   },
   "file_extension": ".py",
   "mimetype": "text/x-python",
   "name": "python",
   "nbconvert_exporter": "python",
   "pygments_lexer": "ipython3",
   "version": "3.10.9"
  },
  "orig_nbformat": 4
 },
 "nbformat": 4,
 "nbformat_minor": 2
}
