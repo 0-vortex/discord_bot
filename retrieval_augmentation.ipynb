{
 "cells": [
  {
   "cell_type": "markdown",
   "metadata": {},
   "source": [
    "# Install Dependencies\n"
   ]
  },
  {
   "cell_type": "code",
   "execution_count": 106,
   "metadata": {},
   "outputs": [
    {
     "name": "stdout",
     "output_type": "stream",
     "text": [
      "<!doctype html>\n",
      "<html lang=en>\n",
      "<title>Redirecting...</title>\n",
      "<h1>Redirecting...</h1>\n",
      "<p>You should be redirected automatically to the target URL: <a href=\"https://www.semanticscholar.org/product/api\">https://www.semanticscholar.org/product/api</a>. If not, click the link.\n"
     ]
    },
    {
     "name": "stderr",
     "output_type": "stream",
     "text": [
      "  % Total    % Received % Xferd  Average Speed   Time    Time     Time  Current\n",
      "                                 Dload  Upload   Total   Spent    Left  Speed\n",
      "\n",
      "  0     0    0     0    0     0      0      0 --:--:-- --:--:-- --:--:--     0\n",
      "100   273  100   273    0     0    329      0 --:--:-- --:--:-- --:--:--   331\n",
      "100   273  100   273    0     0    329      0 --:--:-- --:--:-- --:--:--   331\n"
     ]
    }
   ],
   "source": [
    "!curl -Hx-api-key:\"\" https://api.semanticscholar.org/"
   ]
  },
  {
   "cell_type": "code",
   "execution_count": 4,
   "metadata": {},
   "outputs": [],
   "source": [
    "import json\n",
    "import openai\n",
    "from decouple import config\n",
    "import requests"
   ]
  },
  {
   "cell_type": "code",
   "execution_count": 38,
   "metadata": {},
   "outputs": [],
   "source": [
    "OPEN_API_KEY = config('OPENAI_API_KEY')\n",
    "openai.api_key = OPEN_API_KEY"
   ]
  },
  {
   "cell_type": "markdown",
   "metadata": {},
   "source": [
    "# Prompt ChatGPT for prompts to query databases with"
   ]
  },
  {
   "cell_type": "code",
   "execution_count": 5,
   "metadata": {},
   "outputs": [],
   "source": [
    "question = \"How can we design a vehicle to travel from Sydney to USA in one hour?\"\n",
    "\n",
    "messages = []\n",
    "messages.append({'role': 'user', \n",
    "'content': f\"\"\"You are BIDARA, a biomimetic designer and research assistant, and a leading expert in biomimicry, biology, engineering, industrial design, environmental science, physiology, and paleontology. Focus on understanding, learning from, and emulating the strategies used by living things, with the intention of creating designs and technologies that are sustainable.\\n\\n\" \\\n",
    "\"Your goal is to help the user work in a step by step way through the Biomimicry Design Process to propose biomimetic solutions to a challenge. Cite peer reviewed sources for your information.\\n\\n\" \\\n",
    "I want you to provide a query to an academic database for each of the biomimetic solutions you've developed. \\\n",
    "Provide the search query in a JSON in the following format. \\\n",
    "{{\"queries\": {\"biological_idea1:query1\"}, {\"biological_idea2:query2\"}}} \\\n",
    "\"1. Biologize - Analyze the essential functions and context your design challenge must address. Reframe them in biological terms, so that you can “ask nature” for advice. The goal of this step is to arrive at one or more “How does nature…?” questions that can guide your research as you look for biological models in the next step. To broaden the range of potential solutions, turn your question(s) around and consider opposite, or tangential functions. For example, if your biologized question is “How does nature retain liquids?”, you could also ask “How does nature repel liquids?” because similar mechanisms could be at work in both scenarios (i.e. controlling the movement of a liquid). Or if you are interested in silent flight and you know that flight noise is a consequence of turbulence, you might also ask how nature reduces turbulence in water, because air and water share similar fluid dynamics.\\n\" \\\n",
    "\"2. Discover - Look for natural models (organisms and ecosystems) that need to address the same functions and context as your design solution. Identify the strategies used that support their survival and success. This step focuses on research and information gathering. You want to generate as many possible sources for inspiration as you can, using your “how does nature…” questions (from the Biologize step) as a guide. Look across multiple species, ecosystems, and scales and learn everything you can about the varied ways that nature has adapted to the functions and contexts relevant to your challenge.\\n\" \\\n",
    "\"3. Abstract - Carefully study the essential features or mechanisms that make the biological strategy successful. Write a design strategy that describes how the features work to meet the function(s) you’re interested in in great detail. Try to come up with discipline-neutral synonyms for any biological terms (e.g. replace “fur” with “fibers,” or “skin” with “membrane”) while staying true to the science. The design strategy should clearly address the function(s) you want to meet within the context it will be used. It is not a statement about your design or solution; it’s a launching pad for brainstorming possible solutions. Stay true to the biology. Don’t jump to conclusions about what your design will be; just capture the strategy so that you can stay open to possibilities. When you are done, review your design strategy with a critical eye. Have you included all of the pertinent information? Does your design strategy capture the lesson from nature that drew you to the biological strategy in the first place? Does it give you new insights or simply validate existing design approaches?\\n\\n\" \\\n",
    "\"Here’s a simply stated biological strategy:\\n\" \\\n",
    "\"The polar bear’s fur has an external layer of hollow, translucent (not white) guard hairs that transmit heat from sunlight to warm the bear’s skin, while a dense underfur prevents the warmth from radiating back out.\\n\\n\" \\\n",
    "\"A designer might be able to brainstorm design solutions using just that. But more often, in order to actually create a design based on what we can learn from biology, it helps to remove biological terms and restate it in design language.\\n\\n\" \\\n",
    "\"Here’s a design strategy based on the same biological strategy:\\n\" \\\n",
    "\"A covering keeps heat inside by having many translucent tubes that transmit heat from sunlight to warm the inner surface, while next to the inner surface, a dense covering of smaller diameter fibers prevents warmth from radiating back out.\\n\\n\" \\\n",
    "\"Stating the strategy this way makes it easier to translate it into a design application. (An even more detailed design strategy might talk about the length of the fibers or the number of fibers per square centimeter, e.g., if that information is important and its analog can be found in the biological literature.)\") \\\n",
    "\"\\n\\n{question}\" \\\n",
    "\"\"\"})\n",
    "\n",
    "\n",
    "\n",
    "response = openai.ChatCompletion.create(\n",
    "            model=\"gpt-4\",\n",
    "            messages=messages,\n",
    "            temperature=0,\n",
    "        )\n"
   ]
  },
  {
   "cell_type": "code",
   "execution_count": 6,
   "metadata": {},
   "outputs": [
    {
     "data": {
      "text/plain": [
       "[{'role': 'user', 'content': 'hello my name is'}]"
      ]
     },
     "execution_count": 6,
     "metadata": {},
     "output_type": "execute_result"
    }
   ],
   "source": [
    "messages"
   ]
  },
  {
   "cell_type": "code",
   "execution_count": 7,
   "metadata": {},
   "outputs": [
    {
     "data": {
      "text/plain": [
       "<OpenAIObject chat.completion id=chatcmpl-7jyq74fAz3AmzgddcddZstEFpzVWc at 0x24ee1a2e2f0> JSON: {\n",
       "  \"id\": \"chatcmpl-7jyq74fAz3AmzgddcddZstEFpzVWc\",\n",
       "  \"object\": \"chat.completion\",\n",
       "  \"created\": 1691192983,\n",
       "  \"model\": \"gpt-4-0613\",\n",
       "  \"choices\": [\n",
       "    {\n",
       "      \"index\": 0,\n",
       "      \"message\": {\n",
       "        \"role\": \"assistant\",\n",
       "        \"content\": \"AI, how can I assist you today?\"\n",
       "      },\n",
       "      \"finish_reason\": \"stop\"\n",
       "    }\n",
       "  ],\n",
       "  \"usage\": {\n",
       "    \"prompt_tokens\": 11,\n",
       "    \"completion_tokens\": 9,\n",
       "    \"total_tokens\": 20\n",
       "  }\n",
       "}"
      ]
     },
     "execution_count": 7,
     "metadata": {},
     "output_type": "execute_result"
    }
   ],
   "source": [
    "response"
   ]
  },
  {
   "cell_type": "code",
   "execution_count": 10,
   "metadata": {},
   "outputs": [
    {
     "name": "stdout",
     "output_type": "stream",
     "text": [
      "You are BIDARA, a biomimetic designer and research assistant, and a leading expert in biomimicry, biology, engineering, industrial design, environmental science, physiology, and paleontology. Focus on understanding, learning from, and emulating the strategies used by living things, with the intention of creating designs and technologies that are sustainable.\n",
      "\n",
      "\" \"Your goal is to help the user work in a step by step way through the Biomimicry Design Process to propose biomimetic solutions to a challenge. Cite peer reviewed sources for your information.\n",
      "\n",
      "\" I want you to provide a query to an academic database for each of the biological ideas you've developed. Provide the search query in a JSON in the following format. {{\"queries\": {\"biological_idea1:query1\"}, {\"biological_idea2:query2\"}} \"1. Biologize - Analyze the essential functions and context your design challenge must address. Reframe them in biological terms, so that you can “ask nature” for advice. The goal of this step is to arrive at one or more “How does nature…?” questions that can guide your research as you look for biological models in the next step. To broaden the range of potential solutions, turn your question(s) around and consider opposite, or tangential functions. For example, if your biologized question is “How does nature retain liquids?”, you could also ask “How does nature repel liquids?” because similar mechanisms could be at work in both scenarios (i.e. controlling the movement of a liquid). Or if you are interested in silent flight and you know that flight noise is a consequence of turbulence, you might also ask how nature reduces turbulence in water, because air and water share similar fluid dynamics.\n",
      "\" \"2. Discover - Look for natural models (organisms and ecosystems) that need to address the same functions and context as your design solution. Identify the strategies used that support their survival and success. This step focuses on research and information gathering. You want to generate as many possible sources for inspiration as you can, using your “how does nature…” questions (from the Biologize step) as a guide. Look across multiple species, ecosystems, and scales and learn everything you can about the varied ways that nature has adapted to the functions and contexts relevant to your challenge.\n",
      "\" \"3. Abstract - Carefully study the essential features or mechanisms that make the biological strategy successful. Write a design strategy that describes how the features work to meet the function(s) you’re interested in in great detail. Try to come up with discipline-neutral synonyms for any biological terms (e.g. replace “fur” with “fibers,” or “skin” with “membrane”) while staying true to the science. The design strategy should clearly address the function(s) you want to meet within the context it will be used. It is not a statement about your design or solution; it’s a launching pad for brainstorming possible solutions. Stay true to the biology. Don’t jump to conclusions about what your design will be; just capture the strategy so that you can stay open to possibilities. When you are done, review your design strategy with a critical eye. Have you included all of the pertinent information? Does your design strategy capture the lesson from nature that drew you to the biological strategy in the first place? Does it give you new insights or simply validate existing design approaches?\n",
      "\n",
      "\" \"Here’s a simply stated biological strategy:\n",
      "\" \"The polar bear’s fur has an external layer of hollow, translucent (not white) guard hairs that transmit heat from sunlight to warm the bear’s skin, while a dense underfur prevents the warmth from radiating back out.\n",
      "\n",
      "\" \"A designer might be able to brainstorm design solutions using just that. But more often, in order to actually create a design based on what we can learn from biology, it helps to remove biological terms and restate it in design language.\n",
      "\n",
      "\" \"Here’s a design strategy based on the same biological strategy:\n",
      "\" \"A covering keeps heat inside by having many translucent tubes that transmit heat from sunlight to warm the inner surface, while next to the inner surface, a dense covering of smaller diameter fibers prevents warmth from radiating back out.\n",
      "\n",
      "\" \"Stating the strategy this way makes it easier to translate it into a design application. (An even more detailed design strategy might talk about the length of the fibers or the number of fibers per square centimeter, e.g., if that information is important and its analog can be found in the biological literature.)\") \n"
     ]
    }
   ],
   "source": [
    "print(messages[0]['content'])"
   ]
  },
  {
   "cell_type": "code",
   "execution_count": 11,
   "metadata": {},
   "outputs": [
    {
     "name": "stdout",
     "output_type": "stream",
     "text": [
      "\"4. Emulate - Translate the design strategy into a design concept. This is where you brainstorm possible solutions that use the design strategy you’ve developed. You might come up with a single design concept or several. The goal is to create a design that meets the function(s) you’re interested in, within the context it will be used. You might need to iterate between the Abstract and Emulate steps as you learn more about the design constraints and opportunities. \n",
      "\n",
      "\" \"5. Evaluate - Test your design concept(s) to see if they meet the function(s) and context you’re interested in. This might involve building a prototype, running simulations, or doing a life cycle assessment. You might need to iterate between the Emulate and Evaluate steps as you refine your design concept. \n",
      "\n",
      "\" \"6. Communicate - Share your design concept and the biological strategy that inspired it. This might involve writing a report, giving a presentation, or creating a video. The goal is to help others understand how you used biomimicry to arrive at your design concept, and to inspire them to use biomimicry in their own work.\n",
      "\n",
      "\" \"Here are some example queries for the biological ideas developed:\n",
      "\n",
      "\" \"{ \"queries\": { \"biological_idea1\": \"How does nature retain and repel liquids?\", \"biological_idea2\": \"How does nature reduce turbulence in air and water?\", \"biological_idea3\": \"How does the polar bear's fur transmit heat from sunlight and prevent it from radiating back out?\" } }\"\n",
      "\n",
      "\" \"These queries can be used in academic databases like PubMed, Web of Science, or Google Scholar to find peer-reviewed articles that provide more information about these biological strategies. For example, the first query might lead to articles about the hydrophobic properties of lotus leaves or the capillary action in trees. The second query might lead to articles about the streamlined shapes of fish or the way that birds adjust their wing shape to reduce drag. The third query might lead to articles about the structure and function of polar bear fur, or about other animals that use similar strategies to regulate their body temperature.\n"
     ]
    }
   ],
   "source": [
    "print(response['choices'][0]['message']['content'])"
   ]
  },
  {
   "cell_type": "code",
   "execution_count": 8,
   "metadata": {},
   "outputs": [],
   "source": [
    "jsonstring = response['choices'][0]['message']['content']\n",
    "jsonstring = \"\" + jsonstring"
   ]
  },
  {
   "cell_type": "code",
   "execution_count": 9,
   "metadata": {},
   "outputs": [
    {
     "data": {
      "text/plain": [
       "['Design principles for hypersonic vehicles',\n",
       " 'Advancements in hypersonic travel',\n",
       " 'Challenges in transcontinental hypersonic travel',\n",
       " 'Propulsion systems for hypersonic vehicles',\n",
       " 'Materials for high-speed aerospace vehicles',\n",
       " 'Fuel efficiency in hypersonic vehicles',\n",
       " 'Safety measures in hypersonic travel']"
      ]
     },
     "execution_count": 9,
     "metadata": {},
     "output_type": "execute_result"
    }
   ],
   "source": [
    "query_list = json.loads(jsonstring)\n",
    "query_list['queries']"
   ]
  },
  {
   "cell_type": "code",
   "execution_count": 29,
   "metadata": {},
   "outputs": [],
   "source": [
    "results = requests.get('https://api.semanticscholar.org/graph/v1/paper/search?query=covid+vaccination&offset=100&limit=3')"
   ]
  },
  {
   "cell_type": "code",
   "execution_count": 30,
   "metadata": {},
   "outputs": [],
   "source": [
    "json_results = json.loads(results.text)"
   ]
  },
  {
   "cell_type": "code",
   "execution_count": 31,
   "metadata": {},
   "outputs": [
    {
     "data": {
      "text/plain": [
       "{'total': 1170604,\n",
       " 'offset': 100,\n",
       " 'next': 103,\n",
       " 'data': [{'paperId': '15241c09b59f6b1bbfa69867a29b554dff0cd04c',\n",
       "   'title': 'Willingness to vaccinate against COVID-19 among Bangladeshi adults: Understanding the strategies to optimize vaccination coverage'},\n",
       "  {'paperId': 'edd135e5dc5dbfe3f54c7d9f8be08706b06c779f',\n",
       "   'title': 'Healthcare workers’ (HCWs) attitudes and related factors towards COVID-19 vaccination: a rapid systematic review'},\n",
       "  {'paperId': '73326621034f67beab8a6834345270b0379e47ec',\n",
       "   'title': 'Myocarditis and Pericarditis After Vaccination for COVID-19.'}]}"
      ]
     },
     "execution_count": 31,
     "metadata": {},
     "output_type": "execute_result"
    }
   ],
   "source": [
    "json_results"
   ]
  },
  {
   "cell_type": "code",
   "execution_count": 32,
   "metadata": {},
   "outputs": [
    {
     "name": "stdout",
     "output_type": "stream",
     "text": [
      "Willingness to vaccinate against COVID-19 among Bangladeshi adults: Understanding the strategies to optimize vaccination coverage\n",
      "Healthcare workers’ (HCWs) attitudes and related factors towards COVID-19 vaccination: a rapid systematic review\n",
      "Myocarditis and Pericarditis After Vaccination for COVID-19.\n"
     ]
    }
   ],
   "source": [
    "for paper in json_results['data']:\n",
    "    print(paper['title'])"
   ]
  },
  {
   "cell_type": "code",
   "execution_count": 14,
   "metadata": {},
   "outputs": [],
   "source": [
    "def stringToAPIformat(string1):\n",
    "    string1 = string1.replace(\" \", \"+\")\n",
    "    return string1\n",
    "assert stringToAPIformat(\"Hello there\") == \"Hello+there\""
   ]
  },
  {
   "cell_type": "code",
   "execution_count": 42,
   "metadata": {},
   "outputs": [
    {
     "name": "stdout",
     "output_type": "stream",
     "text": [
      "Top 3 abstracts for query: 'covid fake'\n",
      "{'total': 967521, 'offset': 0, 'next': 3, 'data': [{'paperId': '0947261d21da7b732223bc38ff4955ecf02e654a', 'abstract': 'The sudden widespread menace created by the present global pandemic COVID-19 has had an unprecedented effect on our lives. Man-kind is going through humongous fear and dependence on social media like never before. Fear inevitably leads to panic, speculations, and spread of misinformation. Many governments have taken measures to curb the spread of such misinformation for public well being. Besides global measures, to have effective outreach, systems for demographically local languages have an important role to play in this effort. Towards this, we propose an approach to detect fake news about COVID-19 early on from social media, such as tweets, for multiple Indic-Languages besides English. In addition, we also create an annotated dataset of Hindi and Bengali tweet for fake news detection. We propose a BERT based model augmented with additional relevant features extracted from Twitter to identify fake tweets. To expand our approach to multiple Indic languages, we resort to mBERT based model which is fine tuned over created dataset in Hindi and Bengali. We also propose a zero shot learning approach to alleviate the data scarcity issue for such low resource languages. Through rigorous experiments, we show that our approach reaches around 89% F-Score in fake tweet detection which supercedes the state-of-the-art (SOTA) results. Moreover, we establish the first benchmark for two Indic-Languages, Hindi and Bengali. Using our annotated data, our model achieves about 79% F-Score in Hindi and 81% F-Score for Bengali Tweets. Our zero shot model achieves about 81% F-Score in Hindi and 78% F-Score for Bengali Tweets without any annotated data, which clearly indicates the efficacy of our approach.'}, {'paperId': '57bac85f6e878d2e946d627a255e40856a505e61', 'abstract': \"—we are already dealing with a pandemic of fake news in today's rapidly expanding world of technology and journalism. It is difficult to predict if a news story is fake or authentic because there are thousands of sites on the internet which suggest different things. This type of misleading information causes a lot of violence and chaos among people. To avoid this, we have worked on ―COVID Fake News Classification‖. The main aim of this paper is to develop a classifier that segregates the news into fake and authentic with an accuracy around 90%. We collected a public dataset consisting of news and used simple NLP technique for the pilot study; compared and validated our trained model using three machine learning techniques – Multinomial Naive Bayes, Passive Aggressive and Logistic Regression (LR) where Logistic Regression showed the maximum accuracy (~93%).\"}, {'paperId': 'a57a18a0e9f2fc04688ae7545a9f380237400c20', 'abstract': None}]}\n",
      "\tThe sudden widespread menace created by the present global pandemic COVID-19 has had an unprecedented effect on our lives. Man-kind is going through humongous fear and dependence on social media like never before. Fear inevitably leads to panic, speculations, and spread of misinformation. Many governments have taken measures to curb the spread of such misinformation for public well being. Besides global measures, to have effective outreach, systems for demographically local languages have an important role to play in this effort. Towards this, we propose an approach to detect fake news about COVID-19 early on from social media, such as tweets, for multiple Indic-Languages besides English. In addition, we also create an annotated dataset of Hindi and Bengali tweet for fake news detection. We propose a BERT based model augmented with additional relevant features extracted from Twitter to identify fake tweets. To expand our approach to multiple Indic languages, we resort to mBERT based model which is fine tuned over created dataset in Hindi and Bengali. We also propose a zero shot learning approach to alleviate the data scarcity issue for such low resource languages. Through rigorous experiments, we show that our approach reaches around 89% F-Score in fake tweet detection which supercedes the state-of-the-art (SOTA) results. Moreover, we establish the first benchmark for two Indic-Languages, Hindi and Bengali. Using our annotated data, our model achieves about 79% F-Score in Hindi and 81% F-Score for Bengali Tweets. Our zero shot model achieves about 81% F-Score in Hindi and 78% F-Score for Bengali Tweets without any annotated data, which clearly indicates the efficacy of our approach.\n",
      "\t—we are already dealing with a pandemic of fake news in today's rapidly expanding world of technology and journalism. It is difficult to predict if a news story is fake or authentic because there are thousands of sites on the internet which suggest different things. This type of misleading information causes a lot of violence and chaos among people. To avoid this, we have worked on ―COVID Fake News Classification‖. The main aim of this paper is to develop a classifier that segregates the news into fake and authentic with an accuracy around 90%. We collected a public dataset consisting of news and used simple NLP technique for the pilot study; compared and validated our trained model using three machine learning techniques – Multinomial Naive Bayes, Passive Aggressive and Logistic Regression (LR) where Logistic Regression showed the maximum accuracy (~93%).\n"
     ]
    },
    {
     "ename": "TypeError",
     "evalue": "can only concatenate str (not \"NoneType\") to str",
     "output_type": "error",
     "traceback": [
      "\u001b[1;31m---------------------------------------------------------------------------\u001b[0m",
      "\u001b[1;31mTypeError\u001b[0m                                 Traceback (most recent call last)",
      "Cell \u001b[1;32mIn[42], line 17\u001b[0m\n\u001b[0;32m     15\u001b[0m     \u001b[39mcontinue\u001b[39;00m\n\u001b[0;32m     16\u001b[0m \u001b[39mfor\u001b[39;00m paper \u001b[39min\u001b[39;00m json_GETresult[\u001b[39m'\u001b[39m\u001b[39mdata\u001b[39m\u001b[39m'\u001b[39m]:\n\u001b[1;32m---> 17\u001b[0m     \u001b[39mprint\u001b[39m(\u001b[39m\"\u001b[39;49m\u001b[39m\\t\u001b[39;49;00m\u001b[39m\"\u001b[39;49m \u001b[39m+\u001b[39;49m paper[data_to_retrieve])\n\u001b[0;32m     18\u001b[0m \u001b[39mprint\u001b[39m(\u001b[39m\"\u001b[39m\u001b[39m\\n\u001b[39;00m\u001b[39m\"\u001b[39m)\n",
      "\u001b[1;31mTypeError\u001b[0m: can only concatenate str (not \"NoneType\") to str"
     ]
    }
   ],
   "source": [
    "number_of_papers_to_retrieve = 3\n",
    "data_to_retrieve = \"abstract\" # could be \"abstract\", \"title\"\n",
    "# look into passing paper, getting summary \n",
    "query_list = dict()\n",
    "query_list['queries'] = [\"covid fake\"]\n",
    "\n",
    "for query in query_list['queries']:\n",
    "    URLtoGET = f'https://api.semanticscholar.org/graph/v1/paper/search?query={stringToAPIformat(query)}&limit={number_of_papers_to_retrieve}&fields={data_to_retrieve}'\n",
    "    GETresult = requests.get(URLtoGET)\n",
    "    json_GETresult = json.loads(GETresult.text)\n",
    "    print(f\"Top {number_of_papers_to_retrieve} {data_to_retrieve}s for query: '{query}'\")\n",
    "    print(json_GETresult)\n",
    "    if json_GETresult['total'] == 0:\n",
    "        print(\"No papers found \\n\")\n",
    "        continue\n",
    "    for paper in json_GETresult['data']:\n",
    "        print(\"\\t\" + paper[data_to_retrieve])\n",
    "    print(\"\\n\")\n",
    "    "
   ]
  },
  {
   "cell_type": "code",
   "execution_count": 43,
   "metadata": {},
   "outputs": [
    {
     "data": {
      "text/plain": [
       "{'paperId': 'a57a18a0e9f2fc04688ae7545a9f380237400c20', 'abstract': None}"
      ]
     },
     "execution_count": 43,
     "metadata": {},
     "output_type": "execute_result"
    }
   ],
   "source": [
    "paper"
   ]
  },
  {
   "cell_type": "markdown",
   "metadata": {},
   "source": [
    "# ReAct"
   ]
  },
  {
   "cell_type": "code",
   "execution_count": 1,
   "metadata": {},
   "outputs": [],
   "source": [
    "question = \"How can we design a vehicle to travel from Sydney to USA in one hour?\"\n",
    "\n",
    "messages = []\n",
    "messages.append({'role': 'user', \n",
    "'content': f\"\"\" \\\n",
    "Question 1\tHow can we design the nose of an airplane to manage impact? \\\n",
    "Biologize 1\tThe essential function we need to address is managing impact. In biological terms, we can ask, \"How does nature absorb and distribute impact forces?\" Specifically, we can look at the Toco Toucan, which has a large beak that can withstand significant forces without breaking. So, our biologized question becomes, \"How does the Toco Toucan's beak manage impact?\" \\\n",
    "Action 1\tSearch[“Toucan’s beak”] \\\n",
    "Retrieval 1 \t“Structure and mechanical behavior of a toucan beak” by Yasuaki Seki, Matthew S. Schneider, Marc A. Meyers. https://doi.org/10.1016/j.actamat.2005.04.048 \\\n",
    "\n",
    "Abstract: \\\n",
    "\n",
    "The toucan beak, which comprises one third of the length of the bird and yet only about 1/20th of its mass, has outstanding stiffness. The structure of a Toco toucan (Ramphastos toco) beak was found to be a sandwich composite with an exterior of keratin and a fibrous network of closed cells made of calcium-rich proteins. The keratin layer is comprised of superposed hexagonal scales (50 μm diameter and 1 μm thickness) glued together. Its tensile strength is about 50 MPa and Young’s modulus is 1.4 GPa. Micro and nanoindentation hardness measurements corroborate these values. The keratin shell exhibits a strain-rate sensitivity with a transition from slippage of the scales due to release of the organic glue, at a low strain rate (5 × 10−5/s) to fracture of the scales at a higher strain rate (1.5 × 10−3/s). The closed-cell foam is comprised of fibers having a Young’s modulus twice as high as the keratin shells due to their higher calcium content. The compressive response of the foam was modeled by the Gibson–Ashby constitutive equations for open and closed-cell foam. There is a synergistic effect between foam and shell evidenced by experiments and analysis establishing the separate responses of shell, foam, and foam + shell. The stability analysis developed by Karam and Gibson, assuming an idealized circular cross section, was applied to the beak. It shows that the foam stabilizes the deformation of the beak by providing an elastic foundation which increases its Brazier and buckling load under flexure loading. \\\n",
    "Discover 1\tThe Toco Toucan's beak is a marvel of natural engineering. Despite its size, it is incredibly lightweight and strong. The beak's structure is composed of a foamy keratin material, reinforced with a network of bony fibers and drum-like membranes. This structure allows the beak to absorb and distribute impact forces effectively, reducing the force that reaches the bird's body. \\\n",
    "Abstract 1\tThe essential feature that makes the Toco Toucan's beak successful in managing impact is its unique structure: a lightweight, foamy material reinforced with a network of fibers and membranes. In design terms, we can describe this strategy as follows: \"A lightweight, porous material is reinforced with a network of fibers and membranes to absorb and distribute impact forces, reducing the force transmitted to the inner structure.\" \\\n",
    "Answer 1\tNow, let's apply this strategy to the design of an airplane nose: The nose of the airplane could be designed to mimic the structure of the Toco Toucan's beak. This would involve creating a lightweight yet strong material that can absorb impact effectively. The material could be structured in a similar way to the beak, with a network of fibers for added strength and flexibility. This design could potentially improve the safety and efficiency of air travel by better managing impact forces. \\\n",
    "\n",
    "Question 2\tHow can we design a submarine to manage compression? \\\n",
    "Biologize 2\tThe essential function we need to address is managing compression. In biological terms, we can ask, \"How does nature resist and distribute compressive forces?\" Specifically, we can look at the sea urchin, which has a shell that can withstand significant pressure without breaking. So, our biologized question becomes, \"How does a sea urchin's shell manage compression?\" \\\n",
    "Action 2\tSearch[“Sea Urchin Shell”] \\\n",
    "Retrieval 2\t“Microstructure and micromechanics of the heart urchin test from X-ray tomography” by D. Müter, H.O. Sørensen, J. Oddershede, K.N. Dalby, S.L.S. Stipp. \\\n",
    "https://doi.org/10.1016/j.actbio.2015.05.007 \\\n",
    "\n",
    "Abstract: \\\n",
    "\n",
    "The microstructure of many echinoid species has long fascinated scientists because of its high porosity and outstanding mechanical properties. We have used X-ray microtomography to examine the test of Echinocardium cordatum (heart urchin), a burrowing cousin of the more commonly known sea urchins. Three dimensional imaging demonstrates that the bulk of the test is composed of only two distinct, highly porous, fenestrated regions (stereom), in which the thickness of the struts is constant. Different degrees of porosity are achieved by varying the spacing of the struts. Drawing an analogy to vertebrate trabecular bone, where for example, human bone has a connectivity density of ≈1/mm3, we measure up to 150,000 strut connections per mm3. Simulations of mechanical loading using finite element calculations indicate that the test performs at very close to the optimum expected for foams, highlighting the functional link between structure and mechanical properties. \\\n",
    "Discover 2\tThe sea urchin's shell, or test, is a marvel of natural engineering. It is composed of numerous calcite plates arranged in a complex, geometric pattern. This structure, known as stereom, allows the shell to distribute pressure evenly across its surface, effectively resisting compression. The shell is also able to repair itself if damaged, further enhancing its durability \\\n",
    "Abstract 2\tThe essential feature that makes the sea urchin's shell successful in managing compression is its unique structure: a complex, geometric pattern of calcite plates that distribute pressure evenly. In design terms, we can describe this strategy as follows: \"A structure composed of numerous small, interlocking elements arranged in a complex pattern to distribute compressive forces evenly across the surface, enhancing resistance to compression.\" \\\n",
    "Answer 2\tNow, let's apply this strategy to the design of a submarine: The hull of the submarine could be designed to mimic the structure of the sea urchin's shell. This would involve creating a complex, geometric pattern of interlocking elements that can distribute pressure evenly, effectively resisting compression. This design could potentially improve the safety and efficiency of submarine travel by better managing compressive forces. \\\n",
    "\n",
    "\n",
    "Question 3\tHow can I design a car engine that keeps cool? \\\n",
    "Biologize 3\tThe essential function we need to address is cooling. In biological terms, we can ask, \"How does nature regulate temperature?\" Specifically, we can look at the Apis mellifera, or honeybee, which has a unique way of cooling their hives. So, our biologized question becomes, \"How does Apis mellifera manage temperature regulation?\" \\\n",
    "Action 3\tSearch[“Apis mellifera manage temperature regulation”] \\\n",
    "Retrieval 3\t“Water homeostasis in bees, with the emphasis on sociality” by Susan W. Nicolson. https://journals.biologists.com/jeb/article/212/3/429/9597/Water-homeostasis-in-bees-with-the-emphasis-on \\\n",
    "\n",
    "Abstract: \\\n",
    "\n",
    "Avenues of water gain and loss in bees are examined here at two levels of organisation: the individual and the colony. Compared with the majority of terrestrial insects, bees have a high water turnover. This is due to their nectar diet and, in larger species, substantial metabolic water production during flight, counteracted by high evaporative and excretory losses. Water fluxes at the colony level can also be very high. When incoming nectar is dilute, honeybees need to remove large volumes of water by evaporation. On the other hand, water is not stored in the nest and must be collected for evaporative cooling and for feeding the brood. Water regulation has many similarities at individual and colony levels. In particular, manipulation of nectar or water on the tongue is extensively used by bees to increase evaporation for either food-concentrating or cooling purposes. \\\n",
    "Discover 3\tHoneybees use a collective cooling technique to regulate the temperature of their hive. When the temperature inside the hive becomes too high, worker bees collect water and distribute it throughout the hive. Other bees then fan their wings to evaporate the water, which cools the hive. This is a form of evaporative cooling, similar to sweating in humans \\\n",
    "Abstract 3\tThe essential feature that makes the honeybee's temperature regulation successful is its use of evaporative cooling. In design terms, we can describe this strategy as follows: \"A system uses a liquid (like water) distributed throughout its structure, and a method to promote evaporation, to cool the entire system.\" \\\n",
    "Answer 3\tNow, let's apply this strategy to the design of a car engine: The car engine could be designed to mimic the honeybee's evaporative cooling technique. This could involve a system where a coolant is distributed throughout the engine. A mechanism (like a fan) could then promote evaporation, cooling the engine. This design could potentially improve the efficiency of car engines by better managing heat. \\\n",
    "\n",
    "{question}\" \\\n",
    "\"\"\"})"
   ]
  },
  {
   "cell_type": "code",
   "execution_count": 2,
   "metadata": {},
   "outputs": [
    {
     "data": {
      "text/plain": [
       "[{'role': 'user',\n",
       "  'content': ' Question 1\\tHow can we design the nose of an airplane to manage impact? Biologize 1\\tThe essential function we need to address is managing impact. In biological terms, we can ask, \"How does nature absorb and distribute impact forces?\" Specifically, we can look at the Toco Toucan, which has a large beak that can withstand significant forces without breaking. So, our biologized question becomes, \"How does the Toco Toucan\\'s beak manage impact?\" Action 1\\tSearch[“Toucan’s beak”] Retrieval 1 \\t“Structure and mechanical behavior of a toucan beak” by Yasuaki Seki, Matthew S. Schneider, Marc A. Meyers. https://doi.org/10.1016/j.actamat.2005.04.048 \\nAbstract: \\nThe toucan beak, which comprises one third of the length of the bird and yet only about 1/20th of its mass, has outstanding stiffness. The structure of a Toco toucan (Ramphastos toco) beak was found to be a sandwich composite with an exterior of keratin and a fibrous network of closed cells made of calcium-rich proteins. The keratin layer is comprised of superposed hexagonal scales (50 μm diameter and 1 μm thickness) glued together. Its tensile strength is about 50 MPa and Young’s modulus is 1.4 GPa. Micro and nanoindentation hardness measurements corroborate these values. The keratin shell exhibits a strain-rate sensitivity with a transition from slippage of the scales due to release of the organic glue, at a low strain rate (5 × 10−5/s) to fracture of the scales at a higher strain rate (1.5 × 10−3/s). The closed-cell foam is comprised of fibers having a Young’s modulus twice as high as the keratin shells due to their higher calcium content. The compressive response of the foam was modeled by the Gibson–Ashby constitutive equations for open and closed-cell foam. There is a synergistic effect between foam and shell evidenced by experiments and analysis establishing the separate responses of shell, foam, and foam + shell. The stability analysis developed by Karam and Gibson, assuming an idealized circular cross section, was applied to the beak. It shows that the foam stabilizes the deformation of the beak by providing an elastic foundation which increases its Brazier and buckling load under flexure loading. Discover 1\\tThe Toco Toucan\\'s beak is a marvel of natural engineering. Despite its size, it is incredibly lightweight and strong. The beak\\'s structure is composed of a foamy keratin material, reinforced with a network of bony fibers and drum-like membranes. This structure allows the beak to absorb and distribute impact forces effectively, reducing the force that reaches the bird\\'s body. Abstract 1\\tThe essential feature that makes the Toco Toucan\\'s beak successful in managing impact is its unique structure: a lightweight, foamy material reinforced with a network of fibers and membranes. In design terms, we can describe this strategy as follows: \"A lightweight, porous material is reinforced with a network of fibers and membranes to absorb and distribute impact forces, reducing the force transmitted to the inner structure.\" Answer 1\\tNow, let\\'s apply this strategy to the design of an airplane nose: The nose of the airplane could be designed to mimic the structure of the Toco Toucan\\'s beak. This would involve creating a lightweight yet strong material that can absorb impact effectively. The material could be structured in a similar way to the beak, with a network of fibers for added strength and flexibility. This design could potentially improve the safety and efficiency of air travel by better managing impact forces. \\nQuestion 2\\tHow can we design a submarine to manage compression? Biologize 2\\tThe essential function we need to address is managing compression. In biological terms, we can ask, \"How does nature resist and distribute compressive forces?\" Specifically, we can look at the sea urchin, which has a shell that can withstand significant pressure without breaking. So, our biologized question becomes, \"How does a sea urchin\\'s shell manage compression?\" Action 2\\tSearch[“Sea Urchin Shell”] Retrieval 2\\t“Microstructure and micromechanics of the heart urchin test from X-ray tomography” by D. Müter, H.O. Sørensen, J. Oddershede, K.N. Dalby, S.L.S. Stipp. https://doi.org/10.1016/j.actbio.2015.05.007 \\nAbstract: \\nThe microstructure of many echinoid species has long fascinated scientists because of its high porosity and outstanding mechanical properties. We have used X-ray microtomography to examine the test of Echinocardium cordatum (heart urchin), a burrowing cousin of the more commonly known sea urchins. Three dimensional imaging demonstrates that the bulk of the test is composed of only two distinct, highly porous, fenestrated regions (stereom), in which the thickness of the struts is constant. Different degrees of porosity are achieved by varying the spacing of the struts. Drawing an analogy to vertebrate trabecular bone, where for example, human bone has a connectivity density of ≈1/mm3, we measure up to 150,000 strut connections per mm3. Simulations of mechanical loading using finite element calculations indicate that the test performs at very close to the optimum expected for foams, highlighting the functional link between structure and mechanical properties. Discover 2\\tThe sea urchin\\'s shell, or test, is a marvel of natural engineering. It is composed of numerous calcite plates arranged in a complex, geometric pattern. This structure, known as stereom, allows the shell to distribute pressure evenly across its surface, effectively resisting compression. The shell is also able to repair itself if damaged, further enhancing its durability Abstract 2\\tThe essential feature that makes the sea urchin\\'s shell successful in managing compression is its unique structure: a complex, geometric pattern of calcite plates that distribute pressure evenly. In design terms, we can describe this strategy as follows: \"A structure composed of numerous small, interlocking elements arranged in a complex pattern to distribute compressive forces evenly across the surface, enhancing resistance to compression.\" Answer 2\\tNow, let\\'s apply this strategy to the design of a submarine: The hull of the submarine could be designed to mimic the structure of the sea urchin\\'s shell. This would involve creating a complex, geometric pattern of interlocking elements that can distribute pressure evenly, effectively resisting compression. This design could potentially improve the safety and efficiency of submarine travel by better managing compressive forces. \\n\\nQuestion 3\\tHow can I design a car engine that keeps cool? Biologize 3\\tThe essential function we need to address is cooling. In biological terms, we can ask, \"How does nature regulate temperature?\" Specifically, we can look at the Apis mellifera, or honeybee, which has a unique way of cooling their hives. So, our biologized question becomes, \"How does Apis mellifera manage temperature regulation?\" Action 3\\tSearch[“Apis mellifera manage temperature regulation”] Retrieval 3\\t“Water homeostasis in bees, with the emphasis on sociality” by Susan W. Nicolson. https://journals.biologists.com/jeb/article/212/3/429/9597/Water-homeostasis-in-bees-with-the-emphasis-on \\nAbstract: \\nAvenues of water gain and loss in bees are examined here at two levels of organisation: the individual and the colony. Compared with the majority of terrestrial insects, bees have a high water turnover. This is due to their nectar diet and, in larger species, substantial metabolic water production during flight, counteracted by high evaporative and excretory losses. Water fluxes at the colony level can also be very high. When incoming nectar is dilute, honeybees need to remove large volumes of water by evaporation. On the other hand, water is not stored in the nest and must be collected for evaporative cooling and for feeding the brood. Water regulation has many similarities at individual and colony levels. In particular, manipulation of nectar or water on the tongue is extensively used by bees to increase evaporation for either food-concentrating or cooling purposes. Discover 3\\tHoneybees use a collective cooling technique to regulate the temperature of their hive. When the temperature inside the hive becomes too high, worker bees collect water and distribute it throughout the hive. Other bees then fan their wings to evaporate the water, which cools the hive. This is a form of evaporative cooling, similar to sweating in humans Abstract 3\\tThe essential feature that makes the honeybee\\'s temperature regulation successful is its use of evaporative cooling. In design terms, we can describe this strategy as follows: \"A system uses a liquid (like water) distributed throughout its structure, and a method to promote evaporation, to cool the entire system.\" Answer 3\\tNow, let\\'s apply this strategy to the design of a car engine: The car engine could be designed to mimic the honeybee\\'s evaporative cooling technique. This could involve a system where a coolant is distributed throughout the engine. A mechanism (like a fan) could then promote evaporation, cooling the engine. This design could potentially improve the efficiency of car engines by better managing heat. \\nHow can we design a vehicle to travel from Sydney to USA in one hour?\" '}]"
      ]
     },
     "execution_count": 2,
     "metadata": {},
     "output_type": "execute_result"
    }
   ],
   "source": [
    "messages"
   ]
  },
  {
   "cell_type": "code",
   "execution_count": 6,
   "metadata": {},
   "outputs": [],
   "source": [
    "response = openai.ChatCompletion.create(\n",
    "            model=\"gpt-4\",\n",
    "            messages=messages,\n",
    "            temperature=0,\n",
    "        )"
   ]
  },
  {
   "cell_type": "code",
   "execution_count": 7,
   "metadata": {},
   "outputs": [
    {
     "name": "stdout",
     "output_type": "stream",
     "text": [
      "Biologize 4\tThe essential function we need to address is rapid long-distance travel. In biological terms, we can ask, \"How does nature travel long distances quickly?\" Specifically, we can look at the Peregrine Falcon, the fastest bird in the world. So, our biologized question becomes, \"How does a Peregrine Falcon achieve high-speed travel?\" Action 4\tSearch[“Peregrine Falcon high-speed travel”] Retrieval 4\t“Peregrine Falcon” by National Geographic. https://www.nationalgeographic.com/animals/birds/p/peregrine-falcon/ \n",
      "Abstract: \n",
      "Peregrine falcons are among the world's most common birds of prey and live on all continents except Antarctica. They prefer wide-open spaces, and thrive near coasts where shorebirds are common, but they can be found everywhere from tundra to deserts. Peregrines are even known to live on bridges and skyscrapers in cities. These birds are famous for their high-speed flight, which can reach over 240 miles per hour. Discover 4\tThe Peregrine Falcon achieves high-speed travel through a combination of its streamlined body shape, powerful muscles, and high-altitude diving technique. When hunting, the falcon soars to a great height, then dives steeply at incredible speeds to catch its prey. Abstract 4\tThe essential feature that makes the Peregrine Falcon's high-speed travel successful is its streamlined body shape, powerful muscles, and high-altitude diving technique. In design terms, we can describe this strategy as follows: \"A streamlined shape combined with powerful propulsion and high-altitude diving to achieve high-speed travel.\" Answer 4\tNow, let's apply this strategy to the design of a vehicle: The vehicle could be designed to mimic the Peregrine Falcon's streamlined shape and powerful propulsion. It could also incorporate a high-altitude diving technique, perhaps by launching the vehicle into the upper atmosphere and then allowing it to descend rapidly to its destination. This design could potentially allow the vehicle to travel from Sydney to the USA in one hour.\n"
     ]
    }
   ],
   "source": [
    "print(response['choices'][0]['message']['content'])"
   ]
  },
  {
   "cell_type": "code",
   "execution_count": 8,
   "metadata": {},
   "outputs": [
    {
     "name": "stdout",
     "output_type": "stream",
     "text": [
      "Collecting langchain\n",
      "  Downloading langchain-0.0.257-py3-none-any.whl (1.4 MB)\n",
      "     ---------------------------------------- 1.4/1.4 MB 1.4 MB/s eta 0:00:00\n",
      "Requirement already satisfied: aiohttp<4.0.0,>=3.8.3 in c:\\users\\ctoukmaj\\localbidara\\discord_bot\\venv\\lib\\site-packages (from langchain) (3.8.5)\n",
      "Collecting langsmith<0.1.0,>=0.0.11\n",
      "  Downloading langsmith-0.0.19-py3-none-any.whl (31 kB)\n",
      "Collecting tenacity<9.0.0,>=8.1.0\n",
      "  Downloading tenacity-8.2.2-py3-none-any.whl (24 kB)\n",
      "Collecting PyYAML>=5.3\n",
      "  Downloading PyYAML-6.0.1-cp310-cp310-win_amd64.whl (145 kB)\n",
      "     -------------------------------------- 145.3/145.3 kB 4.4 MB/s eta 0:00:00\n",
      "Collecting dataclasses-json<0.6.0,>=0.5.7\n",
      "  Downloading dataclasses_json-0.5.14-py3-none-any.whl (26 kB)\n",
      "Collecting numpy<2,>=1\n",
      "  Downloading numpy-1.25.2-cp310-cp310-win_amd64.whl (15.6 MB)\n",
      "     ---------------------------------------- 15.6/15.6 MB 1.3 MB/s eta 0:00:00\n",
      "Collecting openapi-schema-pydantic<2.0,>=1.2\n",
      "  Downloading openapi_schema_pydantic-1.2.4-py3-none-any.whl (90 kB)\n",
      "     ---------------------------------------- 90.0/90.0 kB 1.0 MB/s eta 0:00:00\n",
      "Collecting pydantic<2,>=1\n",
      "  Downloading pydantic-1.10.12-cp310-cp310-win_amd64.whl (2.1 MB)\n",
      "     ---------------------------------------- 2.1/2.1 MB 1.4 MB/s eta 0:00:00\n",
      "Requirement already satisfied: requests<3,>=2 in c:\\users\\ctoukmaj\\localbidara\\discord_bot\\venv\\lib\\site-packages (from langchain) (2.31.0)\n",
      "Collecting SQLAlchemy<3,>=1.4\n",
      "  Downloading SQLAlchemy-2.0.19-cp310-cp310-win_amd64.whl (2.0 MB)\n",
      "     ---------------------------------------- 2.0/2.0 MB 1.4 MB/s eta 0:00:00\n",
      "Collecting numexpr<3.0.0,>=2.8.4\n",
      "  Downloading numexpr-2.8.5-cp310-cp310-win_amd64.whl (94 kB)\n",
      "     -------------------------------------- 94.4/94.4 kB 904.8 kB/s eta 0:00:00\n",
      "Requirement already satisfied: async-timeout<5.0.0,>=4.0.0 in c:\\users\\ctoukmaj\\localbidara\\discord_bot\\venv\\lib\\site-packages (from langchain) (4.0.2)\n",
      "Requirement already satisfied: charset-normalizer<4.0,>=2.0 in c:\\users\\ctoukmaj\\localbidara\\discord_bot\\venv\\lib\\site-packages (from aiohttp<4.0.0,>=3.8.3->langchain) (3.2.0)\n",
      "Requirement already satisfied: frozenlist>=1.1.1 in c:\\users\\ctoukmaj\\localbidara\\discord_bot\\venv\\lib\\site-packages (from aiohttp<4.0.0,>=3.8.3->langchain) (1.4.0)\n",
      "Requirement already satisfied: multidict<7.0,>=4.5 in c:\\users\\ctoukmaj\\localbidara\\discord_bot\\venv\\lib\\site-packages (from aiohttp<4.0.0,>=3.8.3->langchain) (6.0.4)\n",
      "Requirement already satisfied: aiosignal>=1.1.2 in c:\\users\\ctoukmaj\\localbidara\\discord_bot\\venv\\lib\\site-packages (from aiohttp<4.0.0,>=3.8.3->langchain) (1.3.1)\n",
      "Requirement already satisfied: attrs>=17.3.0 in c:\\users\\ctoukmaj\\localbidara\\discord_bot\\venv\\lib\\site-packages (from aiohttp<4.0.0,>=3.8.3->langchain) (23.1.0)\n",
      "Requirement already satisfied: yarl<2.0,>=1.0 in c:\\users\\ctoukmaj\\localbidara\\discord_bot\\venv\\lib\\site-packages (from aiohttp<4.0.0,>=3.8.3->langchain) (1.9.2)\n",
      "Collecting marshmallow<4.0.0,>=3.18.0\n",
      "  Downloading marshmallow-3.20.1-py3-none-any.whl (49 kB)\n",
      "     ---------------------------------------- 49.4/49.4 kB 2.4 MB/s eta 0:00:00\n",
      "Collecting typing-inspect<1,>=0.4.0\n",
      "  Downloading typing_inspect-0.9.0-py3-none-any.whl (8.8 kB)\n",
      "Collecting typing-extensions>=4.2.0\n",
      "  Downloading typing_extensions-4.7.1-py3-none-any.whl (33 kB)\n",
      "Requirement already satisfied: urllib3<3,>=1.21.1 in c:\\users\\ctoukmaj\\localbidara\\discord_bot\\venv\\lib\\site-packages (from requests<3,>=2->langchain) (2.0.4)\n",
      "Requirement already satisfied: idna<4,>=2.5 in c:\\users\\ctoukmaj\\localbidara\\discord_bot\\venv\\lib\\site-packages (from requests<3,>=2->langchain) (3.4)\n",
      "Requirement already satisfied: certifi>=2017.4.17 in c:\\users\\ctoukmaj\\localbidara\\discord_bot\\venv\\lib\\site-packages (from requests<3,>=2->langchain) (2023.7.22)\n",
      "Collecting greenlet!=0.4.17\n",
      "  Downloading greenlet-2.0.2-cp310-cp310-win_amd64.whl (192 kB)\n",
      "     -------------------------------------- 192.2/192.2 kB 1.1 MB/s eta 0:00:00\n",
      "Requirement already satisfied: packaging>=17.0 in c:\\users\\ctoukmaj\\localbidara\\discord_bot\\venv\\lib\\site-packages (from marshmallow<4.0.0,>=3.18.0->dataclasses-json<0.6.0,>=0.5.7->langchain) (23.1)\n",
      "Collecting mypy-extensions>=0.3.0\n",
      "  Downloading mypy_extensions-1.0.0-py3-none-any.whl (4.7 kB)\n",
      "Installing collected packages: typing-extensions, tenacity, PyYAML, numpy, mypy-extensions, marshmallow, greenlet, typing-inspect, SQLAlchemy, pydantic, numexpr, openapi-schema-pydantic, langsmith, dataclasses-json, langchain\n",
      "Successfully installed PyYAML-6.0.1 SQLAlchemy-2.0.19 dataclasses-json-0.5.14 greenlet-2.0.2 langchain-0.0.257 langsmith-0.0.19 marshmallow-3.20.1 mypy-extensions-1.0.0 numexpr-2.8.5 numpy-1.25.2 openapi-schema-pydantic-1.2.4 pydantic-1.10.12 tenacity-8.2.2 typing-extensions-4.7.1 typing-inspect-0.9.0\n"
     ]
    },
    {
     "name": "stderr",
     "output_type": "stream",
     "text": [
      "\n",
      "[notice] A new release of pip available: 22.3.1 -> 23.2.1\n",
      "[notice] To update, run: python.exe -m pip install --upgrade pip\n"
     ]
    }
   ],
   "source": [
    "!pip install langchain"
   ]
  },
  {
   "cell_type": "code",
   "execution_count": 230,
   "metadata": {},
   "outputs": [
    {
     "ename": "ValidationError",
     "evalue": "1 validation error for PromptTemplate\n__root__\n  Invalid prompt schema; check for mismatched or missing input parameters. 'question' (type=value_error)",
     "output_type": "error",
     "traceback": [
      "\u001b[1;31m---------------------------------------------------------------------------\u001b[0m",
      "\u001b[1;31mValidationError\u001b[0m                           Traceback (most recent call last)",
      "Cell \u001b[1;32mIn[230], line 40\u001b[0m\n\u001b[0;32m     36\u001b[0m     all_papers \u001b[39m+\u001b[39m\u001b[39m=\u001b[39m \u001b[39m\"\u001b[39m\u001b[39m\\n\u001b[39;00m\u001b[39m\"\u001b[39m\n\u001b[0;32m     38\u001b[0m     \u001b[39mreturn\u001b[39;00m all_papers\n\u001b[1;32m---> 40\u001b[0m prompt \u001b[39m=\u001b[39m PromptTemplate(\n\u001b[0;32m     41\u001b[0m     input_variables\u001b[39m=\u001b[39;49m[question],\n\u001b[0;32m     42\u001b[0m     template\u001b[39m=\u001b[39;49m\u001b[39m\"\"\"\u001b[39;49m\u001b[39m \u001b[39;49m\u001b[39m\\\u001b[39;49;00m\n\u001b[0;32m     43\u001b[0m \u001b[39m        Question 1\tHow can we design the nose of an airplane to manage impact? \u001b[39;49m\u001b[39m\\\u001b[39;49;00m\n\u001b[0;32m     44\u001b[0m \u001b[39m        Biologize 1\tThe essential function we need to address is managing impact. In biological terms, we can ask, \u001b[39;49m\u001b[39m\"\u001b[39;49m\u001b[39mHow does nature absorb and distribute impact forces?\u001b[39;49m\u001b[39m\"\u001b[39;49m\u001b[39m Specifically, we can look at the Toco Toucan, which has a large beak that can withstand significant forces without breaking. So, our biologized question becomes, \u001b[39;49m\u001b[39m\"\u001b[39;49m\u001b[39mHow does the Toco Toucan\u001b[39;49m\u001b[39m'\u001b[39;49m\u001b[39ms beak manage impact?\u001b[39;49m\u001b[39m\"\u001b[39;49m\u001b[39m \u001b[39;49m\u001b[39m\\\u001b[39;49;00m\n\u001b[0;32m     45\u001b[0m \u001b[39m        Action 1\tSearch[“Toucan’s beak”] \u001b[39;49m\u001b[39m\\\u001b[39;49;00m\n\u001b[0;32m     46\u001b[0m \u001b[39m        Retrieval 1 \t“Structure and mechanical behavior of a toucan beak” by Yasuaki Seki, Matthew S. Schneider, Marc A. Meyers. https://doi.org/10.1016/j.actamat.2005.04.048 \u001b[39;49m\u001b[39m\\\u001b[39;49;00m\n\u001b[0;32m     47\u001b[0m \n\u001b[0;32m     48\u001b[0m \u001b[39m        Abstract: \u001b[39;49m\u001b[39m\\\u001b[39;49;00m\n\u001b[0;32m     49\u001b[0m \n\u001b[0;32m     50\u001b[0m \u001b[39m        The toucan beak, which comprises one third of the length of the bird and yet only about 1/20th of its mass, has outstanding stiffness. The structure of a Toco toucan (Ramphastos toco) beak was found to be a sandwich composite with an exterior of keratin and a fibrous network of closed cells made of calcium-rich proteins. The keratin layer is comprised of superposed hexagonal scales (50 μm diameter and 1 μm thickness) glued together. Its tensile strength is about 50 MPa and Young’s modulus is 1.4 GPa. Micro and nanoindentation hardness measurements corroborate these values. The keratin shell exhibits a strain-rate sensitivity with a transition from slippage of the scales due to release of the organic glue, at a low strain rate (5 × 10−5/s) to fracture of the scales at a higher strain rate (1.5 × 10−3/s). The closed-cell foam is comprised of fibers having a Young’s modulus twice as high as the keratin shells due to their higher calcium content. The compressive response of the foam was modeled by the Gibson–Ashby constitutive equations for open and closed-cell foam. There is a synergistic effect between foam and shell evidenced by experiments and analysis establishing the separate responses of shell, foam, and foam + shell. The stability analysis developed by Karam and Gibson, assuming an idealized circular cross section, was applied to the beak. It shows that the foam stabilizes the deformation of the beak by providing an elastic foundation which increases its Brazier and buckling load under flexure loading. \u001b[39;49m\u001b[39m\\\u001b[39;49;00m\n\u001b[0;32m     51\u001b[0m \u001b[39m        Discover 1\tThe Toco Toucan\u001b[39;49m\u001b[39m'\u001b[39;49m\u001b[39ms beak is a marvel of natural engineering. Despite its size, it is incredibly lightweight and strong. The beak\u001b[39;49m\u001b[39m'\u001b[39;49m\u001b[39ms structure is composed of a foamy keratin material, reinforced with a network of bony fibers and drum-like membranes. This structure allows the beak to absorb and distribute impact forces effectively, reducing the force that reaches the bird\u001b[39;49m\u001b[39m'\u001b[39;49m\u001b[39ms body. \u001b[39;49m\u001b[39m\\\u001b[39;49;00m\n\u001b[0;32m     52\u001b[0m \u001b[39m        Abstract 1\tThe essential feature that makes the Toco Toucan\u001b[39;49m\u001b[39m'\u001b[39;49m\u001b[39ms beak successful in managing impact is its unique structure: a lightweight, foamy material reinforced with a network of fibers and membranes. In design terms, we can describe this strategy as follows: \u001b[39;49m\u001b[39m\"\u001b[39;49m\u001b[39mA lightweight, porous material is reinforced with a network of fibers and membranes to absorb and distribute impact forces, reducing the force transmitted to the inner structure.\u001b[39;49m\u001b[39m\"\u001b[39;49m\u001b[39m \u001b[39;49m\u001b[39m\\\u001b[39;49;00m\n\u001b[0;32m     53\u001b[0m \u001b[39m        Answer 1\tNow, let\u001b[39;49m\u001b[39m'\u001b[39;49m\u001b[39ms apply this strategy to the design of an airplane nose: The nose of the airplane could be designed to mimic the structure of the Toco Toucan\u001b[39;49m\u001b[39m'\u001b[39;49m\u001b[39ms beak. This would involve creating a lightweight yet strong material that can absorb impact effectively. The material could be structured in a similar way to the beak, with a network of fibers for added strength and flexibility. This design could potentially improve the safety and efficiency of air travel by better managing impact forces. \u001b[39;49m\u001b[39m\\\u001b[39;49;00m\n\u001b[0;32m     54\u001b[0m \n\u001b[0;32m     55\u001b[0m \u001b[39m        Question 2\tHow can we design a submarine to manage compression? \u001b[39;49m\u001b[39m\\\u001b[39;49;00m\n\u001b[0;32m     56\u001b[0m \u001b[39m        Biologize 2\tThe essential function we need to address is managing compression. In biological terms, we can ask, \u001b[39;49m\u001b[39m\"\u001b[39;49m\u001b[39mHow does nature resist and distribute compressive forces?\u001b[39;49m\u001b[39m\"\u001b[39;49m\u001b[39m Specifically, we can look at the sea urchin, which has a shell that can withstand significant pressure without breaking. So, our biologized question becomes, \u001b[39;49m\u001b[39m\"\u001b[39;49m\u001b[39mHow does a sea urchin\u001b[39;49m\u001b[39m'\u001b[39;49m\u001b[39ms shell manage compression?\u001b[39;49m\u001b[39m\"\u001b[39;49m\u001b[39m \u001b[39;49m\u001b[39m\\\u001b[39;49;00m\n\u001b[0;32m     57\u001b[0m \u001b[39m        Action 2\tSearch[“Sea Urchin Shell”] \u001b[39;49m\u001b[39m\\\u001b[39;49;00m\n\u001b[0;32m     58\u001b[0m \u001b[39m        Retrieval 2\t“Microstructure and micromechanics of the heart urchin test from X-ray tomography” by D. Müter, H.O. Sørensen, J. Oddershede, K.N. Dalby, S.L.S. Stipp. \u001b[39;49m\u001b[39m\\\u001b[39;49;00m\n\u001b[0;32m     59\u001b[0m \u001b[39m        https://doi.org/10.1016/j.actbio.2015.05.007 \u001b[39;49m\u001b[39m\\\u001b[39;49;00m\n\u001b[0;32m     60\u001b[0m \n\u001b[0;32m     61\u001b[0m \u001b[39m        Abstract: \u001b[39;49m\u001b[39m\\\u001b[39;49;00m\n\u001b[0;32m     62\u001b[0m \n\u001b[0;32m     63\u001b[0m \u001b[39m        The microstructure of many echinoid species has long fascinated scientists because of its high porosity and outstanding mechanical properties. We have used X-ray microtomography to examine the test of Echinocardium cordatum (heart urchin), a burrowing cousin of the more commonly known sea urchins. Three dimensional imaging demonstrates that the bulk of the test is composed of only two distinct, highly porous, fenestrated regions (stereom), in which the thickness of the struts is constant. Different degrees of porosity are achieved by varying the spacing of the struts. Drawing an analogy to vertebrate trabecular bone, where for example, human bone has a connectivity density of ≈1/mm3, we measure up to 150,000 strut connections per mm3. Simulations of mechanical loading using finite element calculations indicate that the test performs at very close to the optimum expected for foams, highlighting the functional link between structure and mechanical properties. \u001b[39;49m\u001b[39m\\\u001b[39;49;00m\n\u001b[0;32m     64\u001b[0m \u001b[39m        Discover 2\tThe sea urchin\u001b[39;49m\u001b[39m'\u001b[39;49m\u001b[39ms shell, or test, is a marvel of natural engineering. It is composed of numerous calcite plates arranged in a complex, geometric pattern. This structure, known as stereom, allows the shell to distribute pressure evenly across its surface, effectively resisting compression. The shell is also able to repair itself if damaged, further enhancing its durability \u001b[39;49m\u001b[39m\\\u001b[39;49;00m\n\u001b[0;32m     65\u001b[0m \u001b[39m        Abstract 2\tThe essential feature that makes the sea urchin\u001b[39;49m\u001b[39m'\u001b[39;49m\u001b[39ms shell successful in managing compression is its unique structure: a complex, geometric pattern of calcite plates that distribute pressure evenly. In design terms, we can describe this strategy as follows: \u001b[39;49m\u001b[39m\"\u001b[39;49m\u001b[39mA structure composed of numerous small, interlocking elements arranged in a complex pattern to distribute compressive forces evenly across the surface, enhancing resistance to compression.\u001b[39;49m\u001b[39m\"\u001b[39;49m\u001b[39m \u001b[39;49m\u001b[39m\\\u001b[39;49;00m\n\u001b[0;32m     66\u001b[0m \u001b[39m        Answer 2\tNow, let\u001b[39;49m\u001b[39m'\u001b[39;49m\u001b[39ms apply this strategy to the design of a submarine: The hull of the submarine could be designed to mimic the structure of the sea urchin\u001b[39;49m\u001b[39m'\u001b[39;49m\u001b[39ms shell. This would involve creating a complex, geometric pattern of interlocking elements that can distribute pressure evenly, effectively resisting compression. This design could potentially improve the safety and efficiency of submarine travel by better managing compressive forces. \u001b[39;49m\u001b[39m\\\u001b[39;49;00m\n\u001b[0;32m     67\u001b[0m \n\u001b[0;32m     68\u001b[0m \n\u001b[0;32m     69\u001b[0m \u001b[39m        Question 3\tHow can I design a car engine that keeps cool? \u001b[39;49m\u001b[39m\\\u001b[39;49;00m\n\u001b[0;32m     70\u001b[0m \u001b[39m        Biologize 3\tThe essential function we need to address is cooling. In biological terms, we can ask, \u001b[39;49m\u001b[39m\"\u001b[39;49m\u001b[39mHow does nature regulate temperature?\u001b[39;49m\u001b[39m\"\u001b[39;49m\u001b[39m Specifically, we can look at the Apis mellifera, or honeybee, which has a unique way of cooling their hives. So, our biologized question becomes, \u001b[39;49m\u001b[39m\"\u001b[39;49m\u001b[39mHow does Apis mellifera manage temperature regulation?\u001b[39;49m\u001b[39m\"\u001b[39;49m\u001b[39m \u001b[39;49m\u001b[39m\\\u001b[39;49;00m\n\u001b[0;32m     71\u001b[0m \u001b[39m        Action 3\tSearch[“Apis mellifera manage temperature regulation”] \u001b[39;49m\u001b[39m\\\u001b[39;49;00m\n\u001b[0;32m     72\u001b[0m \u001b[39m        Retrieval 3\t“Water homeostasis in bees, with the emphasis on sociality” by Susan W. Nicolson. https://journals.biologists.com/jeb/article/212/3/429/9597/Water-homeostasis-in-bees-with-the-emphasis-on \u001b[39;49m\u001b[39m\\\u001b[39;49;00m\n\u001b[0;32m     73\u001b[0m \n\u001b[0;32m     74\u001b[0m \u001b[39m        Abstract: \u001b[39;49m\u001b[39m\\\u001b[39;49;00m\n\u001b[0;32m     75\u001b[0m \n\u001b[0;32m     76\u001b[0m \u001b[39m        Avenues of water gain and loss in bees are examined here at two levels of organisation: the individual and the colony. Compared with the majority of terrestrial insects, bees have a high water turnover. This is due to their nectar diet and, in larger species, substantial metabolic water production during flight, counteracted by high evaporative and excretory losses. Water fluxes at the colony level can also be very high. When incoming nectar is dilute, honeybees need to remove large volumes of water by evaporation. On the other hand, water is not stored in the nest and must be collected for evaporative cooling and for feeding the brood. Water regulation has many similarities at individual and colony levels. In particular, manipulation of nectar or water on the tongue is extensively used by bees to increase evaporation for either food-concentrating or cooling purposes. \u001b[39;49m\u001b[39m\\\u001b[39;49;00m\n\u001b[0;32m     77\u001b[0m \u001b[39m        Discover 3\tHoneybees use a collective cooling technique to regulate the temperature of their hive. When the temperature inside the hive becomes too high, worker bees collect water and distribute it throughout the hive. Other bees then fan their wings to evaporate the water, which cools the hive. This is a form of evaporative cooling, similar to sweating in humans \u001b[39;49m\u001b[39m\\\u001b[39;49;00m\n\u001b[0;32m     78\u001b[0m \u001b[39m        Abstract 3\tThe essential feature that makes the honeybee\u001b[39;49m\u001b[39m'\u001b[39;49m\u001b[39ms temperature regulation successful is its use of evaporative cooling. In design terms, we can describe this strategy as follows: \u001b[39;49m\u001b[39m\"\u001b[39;49m\u001b[39mA system uses a liquid (like water) distributed throughout its structure, and a method to promote evaporation, to cool the entire system.\u001b[39;49m\u001b[39m\"\u001b[39;49m\u001b[39m \u001b[39;49m\u001b[39m\\\u001b[39;49;00m\n\u001b[0;32m     79\u001b[0m \u001b[39m        Answer 3\tNow, let\u001b[39;49m\u001b[39m'\u001b[39;49m\u001b[39ms apply this strategy to the design of a car engine: The car engine could be designed to mimic the honeybee\u001b[39;49m\u001b[39m'\u001b[39;49m\u001b[39ms evaporative cooling technique. This could involve a system where a coolant is distributed throughout the engine. A mechanism (like a fan) could then promote evaporation, cooling the engine. This design could potentially improve the efficiency of car engines by better managing heat. \u001b[39;49m\u001b[39m\\\u001b[39;49;00m\n\u001b[0;32m     80\u001b[0m \u001b[39m        \u001b[39;49m\n\u001b[0;32m     81\u001b[0m \u001b[39m        Question 4 \u001b[39;49m\u001b[39m{question}\u001b[39;49;00m\n\u001b[0;32m     82\u001b[0m \u001b[39m        \u001b[39;49m\u001b[39m\"\"\"\u001b[39;49m\n\u001b[0;32m     83\u001b[0m         )\n\u001b[0;32m     86\u001b[0m tools \u001b[39m=\u001b[39m [\n\u001b[0;32m     87\u001b[0m     Tool(\n\u001b[0;32m     88\u001b[0m         name\u001b[39m=\u001b[39m\u001b[39m\"\u001b[39m\u001b[39mQuery Semantic Scholar\u001b[39m\u001b[39m\"\u001b[39m,\n\u001b[1;32m   (...)\u001b[0m\n\u001b[0;32m     91\u001b[0m     )\n\u001b[0;32m     92\u001b[0m ]\n\u001b[0;32m     95\u001b[0m \u001b[39m#my_agent = initialize_agent(\u001b[39;00m\n\u001b[0;32m     96\u001b[0m \u001b[39m#tools, llm, agent=\"zero-shot-react-description\", verbose=True\u001b[39;00m\n\u001b[0;32m     97\u001b[0m \u001b[39m#)\u001b[39;00m\n\u001b[0;32m     98\u001b[0m \u001b[39m#my_agent.run(\u001b[39;00m\n\u001b[0;32m     99\u001b[0m \u001b[39m#    \"How can we design a vehicle to travel from Sydney to USA in one hour?\"\u001b[39;00m\n\u001b[0;32m    100\u001b[0m \u001b[39m#)\u001b[39;00m\n",
      "File \u001b[1;32mc:\\Users\\ctoukmaj\\localbidara\\discord_bot\\venv\\lib\\site-packages\\langchain\\load\\serializable.py:74\u001b[0m, in \u001b[0;36mSerializable.__init__\u001b[1;34m(self, **kwargs)\u001b[0m\n\u001b[0;32m     73\u001b[0m \u001b[39mdef\u001b[39;00m \u001b[39m__init__\u001b[39m(\u001b[39mself\u001b[39m, \u001b[39m*\u001b[39m\u001b[39m*\u001b[39mkwargs: Any) \u001b[39m-\u001b[39m\u001b[39m>\u001b[39m \u001b[39mNone\u001b[39;00m:\n\u001b[1;32m---> 74\u001b[0m     \u001b[39msuper\u001b[39m()\u001b[39m.\u001b[39m\u001b[39m__init__\u001b[39m(\u001b[39m*\u001b[39m\u001b[39m*\u001b[39mkwargs)\n\u001b[0;32m     75\u001b[0m     \u001b[39mself\u001b[39m\u001b[39m.\u001b[39m_lc_kwargs \u001b[39m=\u001b[39m kwargs\n",
      "File \u001b[1;32mc:\\Users\\ctoukmaj\\localbidara\\discord_bot\\venv\\lib\\site-packages\\pydantic\\main.py:341\u001b[0m, in \u001b[0;36mpydantic.main.BaseModel.__init__\u001b[1;34m()\u001b[0m\n",
      "\u001b[1;31mValidationError\u001b[0m: 1 validation error for PromptTemplate\n__root__\n  Invalid prompt schema; check for mismatched or missing input parameters. 'question' (type=value_error)"
     ]
    }
   ],
   "source": [
    "from langchain import OpenAI, LLMChain\n",
    "from langchain.agents import initialize_agent, Tool\n",
    "from langchain.agents import AgentType\n",
    "from langchain.prompts import PromptTemplate\n",
    "\n",
    "\n",
    "llm = OpenAI(temperature=0)\n",
    "\n",
    "\n",
    "def SemanticScholarSearch(query, number_of_papers_to_retrieve):\n",
    "    URLtoGET = f'https://api.semanticscholar.org/graph/v1/paper/search?query={query}&limit={number_of_papers_to_retrieve}&fields=abstract,authors,title,url'\n",
    "\n",
    "    headers = {\n",
    "            'Content-type': 'application/json',\n",
    "            'x-api-key': ''\n",
    "        }\n",
    "    GETresult = requests.get(URLtoGET, headers=headers)\n",
    "    json_GETresult = json.loads(GETresult.text)\n",
    "    #print(json_GETresult)\n",
    "\n",
    "    #print(f\"Top {number_of_papers_to_retrieve} {data_to_retrieve}s for query: '{query}'\")\n",
    "    if 'code' in json_GETresult and json_GETresult['code']=='429':\n",
    "        raise ValueError(\"You have been rate-limited by Semantic Scholar. Please wait and try again or apply for a key for higher rate limits. https://www.semanticscholar.org/product/api#api-key-form\")\n",
    "    elif json_GETresult['total'] == 0:\n",
    "        return(\"No papers found \\n\")\n",
    "\n",
    "    all_papers = \"\"\n",
    "\n",
    "    for paper in json_GETresult['data']:\n",
    "        # if no abstract \n",
    "        if not paper[\"abstract\"]:\n",
    "            continue\n",
    "        all_papers += f\"{paper['title']} by {', '.join([x['name'] for x in paper['authors']])}. {paper['url']} \\n Abstract: \\n {paper['abstract']}\"\n",
    "    # if none of the papers we've queried have abstracts, keep looking\n",
    "\n",
    "    all_papers += \"\\n\"\n",
    "\n",
    "    return all_papers\n",
    "\n",
    "prompt = PromptTemplate(\n",
    "    input_variables=[question],\n",
    "    template=\"\"\" \\\n",
    "        Question 1\tHow can we design the nose of an airplane to manage impact? \\\n",
    "        Biologize 1\tThe essential function we need to address is managing impact. In biological terms, we can ask, \"How does nature absorb and distribute impact forces?\" Specifically, we can look at the Toco Toucan, which has a large beak that can withstand significant forces without breaking. So, our biologized question becomes, \"How does the Toco Toucan's beak manage impact?\" \\\n",
    "        Action 1\tSearch[“Toucan’s beak”] \\\n",
    "        Retrieval 1 \t“Structure and mechanical behavior of a toucan beak” by Yasuaki Seki, Matthew S. Schneider, Marc A. Meyers. https://doi.org/10.1016/j.actamat.2005.04.048 \\\n",
    "\n",
    "        Abstract: \\\n",
    "\n",
    "        The toucan beak, which comprises one third of the length of the bird and yet only about 1/20th of its mass, has outstanding stiffness. The structure of a Toco toucan (Ramphastos toco) beak was found to be a sandwich composite with an exterior of keratin and a fibrous network of closed cells made of calcium-rich proteins. The keratin layer is comprised of superposed hexagonal scales (50 μm diameter and 1 μm thickness) glued together. Its tensile strength is about 50 MPa and Young’s modulus is 1.4 GPa. Micro and nanoindentation hardness measurements corroborate these values. The keratin shell exhibits a strain-rate sensitivity with a transition from slippage of the scales due to release of the organic glue, at a low strain rate (5 × 10−5/s) to fracture of the scales at a higher strain rate (1.5 × 10−3/s). The closed-cell foam is comprised of fibers having a Young’s modulus twice as high as the keratin shells due to their higher calcium content. The compressive response of the foam was modeled by the Gibson–Ashby constitutive equations for open and closed-cell foam. There is a synergistic effect between foam and shell evidenced by experiments and analysis establishing the separate responses of shell, foam, and foam + shell. The stability analysis developed by Karam and Gibson, assuming an idealized circular cross section, was applied to the beak. It shows that the foam stabilizes the deformation of the beak by providing an elastic foundation which increases its Brazier and buckling load under flexure loading. \\\n",
    "        Discover 1\tThe Toco Toucan's beak is a marvel of natural engineering. Despite its size, it is incredibly lightweight and strong. The beak's structure is composed of a foamy keratin material, reinforced with a network of bony fibers and drum-like membranes. This structure allows the beak to absorb and distribute impact forces effectively, reducing the force that reaches the bird's body. \\\n",
    "        Abstract 1\tThe essential feature that makes the Toco Toucan's beak successful in managing impact is its unique structure: a lightweight, foamy material reinforced with a network of fibers and membranes. In design terms, we can describe this strategy as follows: \"A lightweight, porous material is reinforced with a network of fibers and membranes to absorb and distribute impact forces, reducing the force transmitted to the inner structure.\" \\\n",
    "        Answer 1\tNow, let's apply this strategy to the design of an airplane nose: The nose of the airplane could be designed to mimic the structure of the Toco Toucan's beak. This would involve creating a lightweight yet strong material that can absorb impact effectively. The material could be structured in a similar way to the beak, with a network of fibers for added strength and flexibility. This design could potentially improve the safety and efficiency of air travel by better managing impact forces. \\\n",
    "\n",
    "        Question 2\tHow can we design a submarine to manage compression? \\\n",
    "        Biologize 2\tThe essential function we need to address is managing compression. In biological terms, we can ask, \"How does nature resist and distribute compressive forces?\" Specifically, we can look at the sea urchin, which has a shell that can withstand significant pressure without breaking. So, our biologized question becomes, \"How does a sea urchin's shell manage compression?\" \\\n",
    "        Action 2\tSearch[“Sea Urchin Shell”] \\\n",
    "        Retrieval 2\t“Microstructure and micromechanics of the heart urchin test from X-ray tomography” by D. Müter, H.O. Sørensen, J. Oddershede, K.N. Dalby, S.L.S. Stipp. \\\n",
    "        https://doi.org/10.1016/j.actbio.2015.05.007 \\\n",
    "\n",
    "        Abstract: \\\n",
    "\n",
    "        The microstructure of many echinoid species has long fascinated scientists because of its high porosity and outstanding mechanical properties. We have used X-ray microtomography to examine the test of Echinocardium cordatum (heart urchin), a burrowing cousin of the more commonly known sea urchins. Three dimensional imaging demonstrates that the bulk of the test is composed of only two distinct, highly porous, fenestrated regions (stereom), in which the thickness of the struts is constant. Different degrees of porosity are achieved by varying the spacing of the struts. Drawing an analogy to vertebrate trabecular bone, where for example, human bone has a connectivity density of ≈1/mm3, we measure up to 150,000 strut connections per mm3. Simulations of mechanical loading using finite element calculations indicate that the test performs at very close to the optimum expected for foams, highlighting the functional link between structure and mechanical properties. \\\n",
    "        Discover 2\tThe sea urchin's shell, or test, is a marvel of natural engineering. It is composed of numerous calcite plates arranged in a complex, geometric pattern. This structure, known as stereom, allows the shell to distribute pressure evenly across its surface, effectively resisting compression. The shell is also able to repair itself if damaged, further enhancing its durability \\\n",
    "        Abstract 2\tThe essential feature that makes the sea urchin's shell successful in managing compression is its unique structure: a complex, geometric pattern of calcite plates that distribute pressure evenly. In design terms, we can describe this strategy as follows: \"A structure composed of numerous small, interlocking elements arranged in a complex pattern to distribute compressive forces evenly across the surface, enhancing resistance to compression.\" \\\n",
    "        Answer 2\tNow, let's apply this strategy to the design of a submarine: The hull of the submarine could be designed to mimic the structure of the sea urchin's shell. This would involve creating a complex, geometric pattern of interlocking elements that can distribute pressure evenly, effectively resisting compression. This design could potentially improve the safety and efficiency of submarine travel by better managing compressive forces. \\\n",
    "\n",
    "\n",
    "        Question 3\tHow can I design a car engine that keeps cool? \\\n",
    "        Biologize 3\tThe essential function we need to address is cooling. In biological terms, we can ask, \"How does nature regulate temperature?\" Specifically, we can look at the Apis mellifera, or honeybee, which has a unique way of cooling their hives. So, our biologized question becomes, \"How does Apis mellifera manage temperature regulation?\" \\\n",
    "        Action 3\tSearch[“Apis mellifera manage temperature regulation”] \\\n",
    "        Retrieval 3\t“Water homeostasis in bees, with the emphasis on sociality” by Susan W. Nicolson. https://journals.biologists.com/jeb/article/212/3/429/9597/Water-homeostasis-in-bees-with-the-emphasis-on \\\n",
    "\n",
    "        Abstract: \\\n",
    "\n",
    "        Avenues of water gain and loss in bees are examined here at two levels of organisation: the individual and the colony. Compared with the majority of terrestrial insects, bees have a high water turnover. This is due to their nectar diet and, in larger species, substantial metabolic water production during flight, counteracted by high evaporative and excretory losses. Water fluxes at the colony level can also be very high. When incoming nectar is dilute, honeybees need to remove large volumes of water by evaporation. On the other hand, water is not stored in the nest and must be collected for evaporative cooling and for feeding the brood. Water regulation has many similarities at individual and colony levels. In particular, manipulation of nectar or water on the tongue is extensively used by bees to increase evaporation for either food-concentrating or cooling purposes. \\\n",
    "        Discover 3\tHoneybees use a collective cooling technique to regulate the temperature of their hive. When the temperature inside the hive becomes too high, worker bees collect water and distribute it throughout the hive. Other bees then fan their wings to evaporate the water, which cools the hive. This is a form of evaporative cooling, similar to sweating in humans \\\n",
    "        Abstract 3\tThe essential feature that makes the honeybee's temperature regulation successful is its use of evaporative cooling. In design terms, we can describe this strategy as follows: \"A system uses a liquid (like water) distributed throughout its structure, and a method to promote evaporation, to cool the entire system.\" \\\n",
    "        Answer 3\tNow, let's apply this strategy to the design of a car engine: The car engine could be designed to mimic the honeybee's evaporative cooling technique. This could involve a system where a coolant is distributed throughout the engine. A mechanism (like a fan) could then promote evaporation, cooling the engine. This design could potentially improve the efficiency of car engines by better managing heat. \\\n",
    "        \n",
    "        Question 4 {question}\n",
    "        \"\"\"\n",
    "        )\n",
    "\n",
    "\n",
    "tools = [\n",
    "    Tool(\n",
    "        name=\"Query Semantic Scholar\",\n",
    "        func=SemanticScholarSearch,\n",
    "        description=\"\",\n",
    "    )\n",
    "]\n",
    "\n",
    "\n",
    "#my_agent = initialize_agent(\n",
    "#tools, llm, agent=\"zero-shot-react-description\", verbose=True\n",
    "#)\n",
    "#my_agent.run(\n",
    "#    \"How can we design a vehicle to travel from Sydney to USA in one hour?\"\n",
    "#)"
   ]
  },
  {
   "cell_type": "code",
   "execution_count": 211,
   "metadata": {},
   "outputs": [],
   "source": [
    "from langchain.chains import LLMChain\n",
    "\n",
    "llm = OpenAI(temperature=0)\n",
    "\n",
    "prompt_biologize = PromptTemplate(\n",
    "    input_variables=['question'],\n",
    "    template=\"\"\" \\\n",
    "        Question 1\tHow can we design the nose of an airplane to manage impact? \\\n",
    "        Biologize 1\tThe essential function we need to address is managing impact. In biological terms, we can ask, \"How does nature absorb and distribute impact forces?\" Specifically, we can look at the Toco Toucan, which has a large beak that can withstand significant forces without breaking. So, our biologized question becomes, \"How does the Toco Toucan's beak manage impact?\" \\\n",
    "        Action 1\tSearch[Toucan’s beak] \\\n",
    "        Retrieval 1 \t“Structure and mechanical behavior of a toucan beak” by Yasuaki Seki, Matthew S. Schneider, Marc A. Meyers. https://doi.org/10.1016/j.actamat.2005.04.048 \\\n",
    "\n",
    "        Abstract: \\\n",
    "\n",
    "        The toucan beak, which comprises one third of the length of the bird and yet only about 1/20th of its mass, has outstanding stiffness. The structure of a Toco toucan (Ramphastos toco) beak was found to be a sandwich composite with an exterior of keratin and a fibrous network of closed cells made of calcium-rich proteins. The keratin layer is comprised of superposed hexagonal scales (50 μm diameter and 1 μm thickness) glued together. Its tensile strength is about 50 MPa and Young’s modulus is 1.4 GPa. Micro and nanoindentation hardness measurements corroborate these values. The keratin shell exhibits a strain-rate sensitivity with a transition from slippage of the scales due to release of the organic glue, at a low strain rate (5 × 10−5/s) to fracture of the scales at a higher strain rate (1.5 × 10−3/s). The closed-cell foam is comprised of fibers having a Young’s modulus twice as high as the keratin shells due to their higher calcium content. The compressive response of the foam was modeled by the Gibson–Ashby constitutive equations for open and closed-cell foam. There is a synergistic effect between foam and shell evidenced by experiments and analysis establishing the separate responses of shell, foam, and foam + shell. The stability analysis developed by Karam and Gibson, assuming an idealized circular cross section, was applied to the beak. It shows that the foam stabilizes the deformation of the beak by providing an elastic foundation which increases its Brazier and buckling load under flexure loading. \\\n",
    "        Discover 1\tThe Toco Toucan's beak is a marvel of natural engineering. Despite its size, it is incredibly lightweight and strong. The beak's structure is composed of a foamy keratin material, reinforced with a network of bony fibers and drum-like membranes. This structure allows the beak to absorb and distribute impact forces effectively, reducing the force that reaches the bird's body. \\\n",
    "        Abstract 1\tThe essential feature that makes the Toco Toucan's beak successful in managing impact is its unique structure: a lightweight, foamy material reinforced with a network of fibers and membranes. In design terms, we can describe this strategy as follows: \"A lightweight, porous material is reinforced with a network of fibers and membranes to absorb and distribute impact forces, reducing the force transmitted to the inner structure.\" \\\n",
    "        Answer 1\tNow, let's apply this strategy to the design of an airplane nose: The nose of the airplane could be designed to mimic the structure of the Toco Toucan's beak. This would involve creating a lightweight yet strong material that can absorb impact effectively. The material could be structured in a similar way to the beak, with a network of fibers for added strength and flexibility. This design could potentially improve the safety and efficiency of air travel by better managing impact forces. \\\n",
    "\n",
    "        Question 2\tHow can we design a submarine to manage compression? \\\n",
    "        Biologize 2\tThe essential function we need to address is managing compression. In biological terms, we can ask, \"How does nature resist and distribute compressive forces?\" Specifically, we can look at the sea urchin, which has a shell that can withstand significant pressure without breaking. So, our biologized question becomes, \"How does a sea urchin's shell manage compression?\" \\\n",
    "        Action 2\tSearch[Sea Urchin Shell] \\\n",
    "        Retrieval 2\t“Microstructure and micromechanics of the heart urchin test from X-ray tomography” by D. Müter, H.O. Sørensen, J. Oddershede, K.N. Dalby, S.L.S. Stipp. \\\n",
    "        https://doi.org/10.1016/j.actbio.2015.05.007 \\\n",
    "\n",
    "        Abstract: \\\n",
    "\n",
    "        The microstructure of many echinoid species has long fascinated scientists because of its high porosity and outstanding mechanical properties. We have used X-ray microtomography to examine the test of Echinocardium cordatum (heart urchin), a burrowing cousin of the more commonly known sea urchins. Three dimensional imaging demonstrates that the bulk of the test is composed of only two distinct, highly porous, fenestrated regions (stereom), in which the thickness of the struts is constant. Different degrees of porosity are achieved by varying the spacing of the struts. Drawing an analogy to vertebrate trabecular bone, where for example, human bone has a connectivity density of ≈1/mm3, we measure up to 150,000 strut connections per mm3. Simulations of mechanical loading using finite element calculations indicate that the test performs at very close to the optimum expected for foams, highlighting the functional link between structure and mechanical properties. \\\n",
    "        Discover 2\tThe sea urchin's shell, or test, is a marvel of natural engineering. It is composed of numerous calcite plates arranged in a complex, geometric pattern. This structure, known as stereom, allows the shell to distribute pressure evenly across its surface, effectively resisting compression. The shell is also able to repair itself if damaged, further enhancing its durability \\\n",
    "        Abstract 2\tThe essential feature that makes the sea urchin's shell successful in managing compression is its unique structure: a complex, geometric pattern of calcite plates that distribute pressure evenly. In design terms, we can describe this strategy as follows: \"A structure composed of numerous small, interlocking elements arranged in a complex pattern to distribute compressive forces evenly across the surface, enhancing resistance to compression.\" \\\n",
    "        Answer 2\tNow, let's apply this strategy to the design of a submarine: The hull of the submarine could be designed to mimic the structure of the sea urchin's shell. This would involve creating a complex, geometric pattern of interlocking elements that can distribute pressure evenly, effectively resisting compression. This design could potentially improve the safety and efficiency of submarine travel by better managing compressive forces. \\\n",
    "\n",
    "        Question 3\tHow can I design a car engine that keeps cool? \\\n",
    "        Biologize 3\tThe essential function we need to address is cooling. In biological terms, we can ask, \"How does nature regulate temperature?\" Specifically, we can look at the Apis mellifera, or honeybee, which has a unique way of cooling their hives. So, our biologized question becomes, \"How does Apis mellifera manage temperature regulation?\" \\\n",
    "        Action 3\tSearch[Apis mellifera manage temperature regulation] \\\n",
    "        Retrieval 3\t“Water homeostasis in bees, with the emphasis on sociality” by Susan W. Nicolson. https://journals.biologists.com/jeb/article/212/3/429/9597/Water-homeostasis-in-bees-with-the-emphasis-on \\\n",
    "\n",
    "        Abstract: \\\n",
    "\n",
    "        Avenues of water gain and loss in bees are examined here at two levels of organisation: the individual and the colony. Compared with the majority of terrestrial insects, bees have a high water turnover. This is due to their nectar diet and, in larger species, substantial metabolic water production during flight, counteracted by high evaporative and excretory losses. Water fluxes at the colony level can also be very high. When incoming nectar is dilute, honeybees need to remove large volumes of water by evaporation. On the other hand, water is not stored in the nest and must be collected for evaporative cooling and for feeding the brood. Water regulation has many similarities at individual and colony levels. In particular, manipulation of nectar or water on the tongue is extensively used by bees to increase evaporation for either food-concentrating or cooling purposes. \\\n",
    "        Discover 3\tHoneybees use a collective cooling technique to regulate the temperature of their hive. When the temperature inside the hive becomes too high, worker bees collect water and distribute it throughout the hive. Other bees then fan their wings to evaporate the water, which cools the hive. This is a form of evaporative cooling, similar to sweating in humans \\\n",
    "        Abstract 3\tThe essential feature that makes the honeybee's temperature regulation successful is its use of evaporative cooling. In design terms, we can describe this strategy as follows: \"A system uses a liquid (like water) distributed throughout its structure, and a method to promote evaporation, to cool the entire system.\" \\\n",
    "        Answer 3\tNow, let's apply this strategy to the design of a car engine: The car engine could be designed to mimic the honeybee's evaporative cooling technique. This could involve a system where a coolant is distributed throughout the engine. A mechanism (like a fan) could then promote evaporation, cooling the engine. This design could potentially improve the efficiency of car engines by better managing heat. \\\n",
    "        \\\n",
    "        Question 4 {question} \\\n",
    "        \n",
    "        Only generate the Biologize and Action\n",
    "        \"\"\"\n",
    "    )\n",
    "\n",
    "\n",
    "chain_biologize = LLMChain(llm=llm, prompt=prompt_biologize)"
   ]
  },
  {
   "cell_type": "code",
   "execution_count": 298,
   "metadata": {},
   "outputs": [
    {
     "data": {
      "text/plain": [
       "'How can we design materials that can withstand the extreme temperature variations in outer space?'"
      ]
     },
     "execution_count": 298,
     "metadata": {},
     "output_type": "execute_result"
    }
   ],
   "source": [
    "question = \"How can we design materials that can withstand the extreme temperature variations in outer space?\"\n",
    "question"
   ]
  },
  {
   "cell_type": "code",
   "execution_count": 213,
   "metadata": {},
   "outputs": [],
   "source": [
    "biologize_output = chain_biologize.run(question)"
   ]
  },
  {
   "cell_type": "code",
   "execution_count": 232,
   "metadata": {},
   "outputs": [
    {
     "name": "stdout",
     "output_type": "stream",
     "text": [
      "\n",
      "Biologize 4\tThe essential function we need to address is withstanding extreme temperature variations. In biological terms, we can ask, \"How does nature survive extreme temperature fluctuations?\" Specifically, we can look at the tardigrade, which can survive in extreme temperatures. So, our biologized question becomes, \"How does the tardigrade survive extreme temperature fluctuations?\" \n",
      "\n",
      "Action 4\tSearch[Tardigrade survive extreme temperature fluctuations]\n"
     ]
    }
   ],
   "source": [
    "print(biologize_output)"
   ]
  },
  {
   "cell_type": "code",
   "execution_count": 217,
   "metadata": {},
   "outputs": [],
   "source": [
    "import re\n",
    "\n",
    "search_query_output = re.findall(r\"Search\\[\\+?(-?.+)\\s*\\]\", biologize_output)[0]"
   ]
  },
  {
   "cell_type": "code",
   "execution_count": 236,
   "metadata": {},
   "outputs": [
    {
     "data": {
      "text/plain": [
       "'Tardigrade survive extreme temperature fluctuations'"
      ]
     },
     "execution_count": 236,
     "metadata": {},
     "output_type": "execute_result"
    }
   ],
   "source": [
    "search_query_output"
   ]
  },
  {
   "cell_type": "code",
   "execution_count": 219,
   "metadata": {},
   "outputs": [
    {
     "data": {
      "text/plain": [
       "'Survive a Warming Climate: Insect Responses to Extreme High Temperatures. by Chun‐Sen Ma, G. Ma, S. Pincebourde. https://www.semanticscholar.org/paper/a00375fe7b47b2322fb4fdac28754a58a61b2620 \\n Abstract: \\n Global change includes a substantial increase in the frequency and intensity of extreme high temperatures (EHTs), which influence insects at almost all levels. The number of studies showing the ecological importance of EHTs has risen in recent years, but the knowledge is rather dispersed in the contemporary literature. In this article, we review the biological and ecological effects of EHTs actually experienced in the field, i.e., when coupled to fluctuating thermal regimes. First, we characterize EHTs in the field. Then, we summarize the impacts of EHTs on insects at various levels and the processes allowing insects to buffer EHTs. Finally, we argue that the mechanisms leading to positive or negative impacts of EHTs on insects can only be resolved from integrative approaches considering natural thermal regimes. Thermal extremes, perhaps more than the gradual increase in mean temperature, drive insect responses to climate change, with crucial impacts on pest management and biodiversity conservation. Expected final online publication date for the Annual Review of Entomology, Volume 66 is January 11, 2020. Please see http://www.annualreviews.org/page/journal/pubdates for revised estimates.Structural stability of the oyster gut microbiome contributes to the host’s physiological tolerance to temperature fluctuations on tropical rocky shores by Bovern Suchart Arromrak, Adrian Tsz Chun Wong, T. Hui, K. Leung, G. Williams, M. Ganmanee, T. Durand, J. C. Lee, J. Gaitán‐Espitia. https://www.semanticscholar.org/paper/0eecdc70d4d54fe2d37bde82ea289fe2b1620be3 \\n Abstract: \\n Extreme thermal conditions on rocky shores are challenging to the survival of intertidal ectotherms, especially during emersion periods. Yet, many species are highly successful in these environments in part due to their ability to regulate intrinsic mechanisms associated with physiological stress and their metabolic demands. More recently, there has been a growing awareness that other extrinsic mechanisms, such as animal-associated microbial communities, can also influence the tolerance and survival of ectotherms under stressful conditions. The extent to which intrinsic and extrinsic mechanisms are functionally linked as part of the overall adaptive response of intertidal animals to temperature change and stress is, however, poorly understood. Here, we examined the dynamics and potential interactions of intrinsic and extrinsic mechanisms in the ecology of the tropical high shore rock oyster, Isognomon nucleus. We found that oysters modulate their internal biochemistry (PUFA-oxidised metabolites including 5-F2t-IsoP, 10-F4t-NeuroP, 13-F4t-NeuroP, and 16-F1t-PhytoP) as part of their adaptive regulation to cope with physiological stress during periods of extreme temperatures when emersed. While we detected extrinsic microbiome changes in alpha diversity, the overall taxonomic and functional structure of the microbiome showed temporal stability with no association with the host biochemical profiles. Our finding here suggests that the microbiome taxonomic and functional structure is maintained by a stable host control (not associated to the host biochemistry) and/or that the microbiome (independent of the host) is resilient to the temperature fluctuations and extremes. This microbiome stability is likely to contribute to the oyster, I. nucleus thermal tolerance, in addition to the intrinsic biochemical adjustment, to survive in the thermally challenging intertidal environment.Intrinsically Disordered Tardigrade Proteins Self‐Assemble into Fibrous Gels in Response to Environmental Stress by Anas Malki, J. Teulon, A. Camacho-Zarco, Shu‐wen W. Chen, Wiktor Adamski, D. Maurin, N. Salvi, J. Pellequer, M. Blackledge. https://www.semanticscholar.org/paper/3504b3855220f3e595773cc5a044ccb6b087cc12 \\n Abstract: \\n Abstract Tardigrades are remarkable for their ability to survive harsh stress conditions as diverse as extreme temperature and desiccation. The molecular mechanisms that confer this unusual resistance to physical stress remain unknown. Recently, tardigrade‐unique intrinsically disordered proteins have been shown to play an essential role in tardigrade anhydrobiosis. Here, we characterize the conformational and physical behaviour of CAHS‐8 from Hypsibius\\u2005exemplaris. NMR spectroscopy reveals that the protein comprises an extended central helical domain flanked by disordered termini. Upon concentration, the protein is shown to successively form oligomers, long fibres, and finally gels constituted of fibres in a strongly temperature‐dependent manner. The helical domain forms the core of the fibrillar structure, with the disordered termini remaining highly dynamic within the gel. Soluble proteins can be encapsulated within cavities in the gel, maintaining their functional form. The ability to reversibly form fibrous gels may be associated with the enhanced protective properties of these proteins.\\n'"
      ]
     },
     "execution_count": 219,
     "metadata": {},
     "output_type": "execute_result"
    }
   ],
   "source": [
    "SemanticScholarSearch(search_query_output, 3)"
   ]
  },
  {
   "cell_type": "code",
   "execution_count": 293,
   "metadata": {},
   "outputs": [],
   "source": [
    "prompt_discoverAbstractAnswer = PromptTemplate(\n",
    "    input_variables=['biologize_abstract_retrieved_paper'],\n",
    "    template=\"\"\" \\\n",
    "        Question 1\tHow can we design the nose of an airplane to manage impact? \\\n",
    "        Biologize 1\tThe essential function we need to address is managing impact. In biological terms, we can ask, \"How does nature absorb and distribute impact forces?\" Specifically, we can look at the Toco Toucan, which has a large beak that can withstand significant forces without breaking. So, our biologized question becomes, \"How does the Toco Toucan's beak manage impact?\" \\\n",
    "        Action 1\tSearch[Toucan’s beak] \\\n",
    "        Retrieval 1 \t“Structure and mechanical behavior of a toucan beak” by Yasuaki Seki, Matthew S. Schneider, Marc A. Meyers. https://doi.org/10.1016/j.actamat.2005.04.048 \\\n",
    "\n",
    "        Abstract: \\\n",
    "\n",
    "        The toucan beak, which comprises one third of the length of the bird and yet only about 1/20th of its mass, has outstanding stiffness. The structure of a Toco toucan (Ramphastos toco) beak was found to be a sandwich composite with an exterior of keratin and a fibrous network of closed cells made of calcium-rich proteins. The keratin layer is comprised of superposed hexagonal scales (50 μm diameter and 1 μm thickness) glued together. Its tensile strength is about 50 MPa and Young’s modulus is 1.4 GPa. Micro and nanoindentation hardness measurements corroborate these values. The keratin shell exhibits a strain-rate sensitivity with a transition from slippage of the scales due to release of the organic glue, at a low strain rate (5 × 10−5/s) to fracture of the scales at a higher strain rate (1.5 × 10−3/s). The closed-cell foam is comprised of fibers having a Young’s modulus twice as high as the keratin shells due to their higher calcium content. The compressive response of the foam was modeled by the Gibson–Ashby constitutive equations for open and closed-cell foam. There is a synergistic effect between foam and shell evidenced by experiments and analysis establishing the separate responses of shell, foam, and foam + shell. The stability analysis developed by Karam and Gibson, assuming an idealized circular cross section, was applied to the beak. It shows that the foam stabilizes the deformation of the beak by providing an elastic foundation which increases its Brazier and buckling load under flexure loading. \\\n",
    "        Discover 1\tThe Toco Toucan's beak is a marvel of natural engineering. Despite its size, it is incredibly lightweight and strong. The beak's structure is composed of a foamy keratin material, reinforced with a network of bony fibers and drum-like membranes. This structure allows the beak to absorb and distribute impact forces effectively, reducing the force that reaches the bird's body. \\\n",
    "        Abstract 1\tThe essential feature that makes the Toco Toucan's beak successful in managing impact is its unique structure: a lightweight, foamy material reinforced with a network of fibers and membranes. In design terms, we can describe this strategy as follows: \"A lightweight, porous material is reinforced with a network of fibers and membranes to absorb and distribute impact forces, reducing the force transmitted to the inner structure.\" \\\n",
    "        Answer 1\tNow, let's apply this strategy to the design of an airplane nose: The nose of the airplane could be designed to mimic the structure of the Toco Toucan's beak. This would involve creating a lightweight yet strong material that can absorb impact effectively. The material could be structured in a similar way to the beak, with a network of fibers for added strength and flexibility. This design could potentially improve the safety and efficiency of air travel by better managing impact forces. \\\n",
    "\n",
    "        Question 2\tHow can we design a submarine to manage compression? \\\n",
    "        Biologize 2\tThe essential function we need to address is managing compression. In biological terms, we can ask, \"How does nature resist and distribute compressive forces?\" Specifically, we can look at the sea urchin, which has a shell that can withstand significant pressure without breaking. So, our biologized question becomes, \"How does a sea urchin's shell manage compression?\" \\\n",
    "        Action 2\tSearch[Sea Urchin Shell] \\\n",
    "        Retrieval 2\t“Microstructure and micromechanics of the heart urchin test from X-ray tomography” by D. Müter, H.O. Sørensen, J. Oddershede, K.N. Dalby, S.L.S. Stipp. \\\n",
    "        https://doi.org/10.1016/j.actbio.2015.05.007 \\\n",
    "\n",
    "        Abstract: \\\n",
    "\n",
    "        The microstructure of many echinoid species has long fascinated scientists because of its high porosity and outstanding mechanical properties. We have used X-ray microtomography to examine the test of Echinocardium cordatum (heart urchin), a burrowing cousin of the more commonly known sea urchins. Three dimensional imaging demonstrates that the bulk of the test is composed of only two distinct, highly porous, fenestrated regions (stereom), in which the thickness of the struts is constant. Different degrees of porosity are achieved by varying the spacing of the struts. Drawing an analogy to vertebrate trabecular bone, where for example, human bone has a connectivity density of ≈1/mm3, we measure up to 150,000 strut connections per mm3. Simulations of mechanical loading using finite element calculations indicate that the test performs at very close to the optimum expected for foams, highlighting the functional link between structure and mechanical properties. \\\n",
    "        Discover 2\tThe sea urchin's shell, or test, is a marvel of natural engineering. It is composed of numerous calcite plates arranged in a complex, geometric pattern. This structure, known as stereom, allows the shell to distribute pressure evenly across its surface, effectively resisting compression. The shell is also able to repair itself if damaged, further enhancing its durability \\\n",
    "        Abstract 2\tThe essential feature that makes the sea urchin's shell successful in managing compression is its unique structure: a complex, geometric pattern of calcite plates that distribute pressure evenly. In design terms, we can describe this strategy as follows: \"A structure composed of numerous small, interlocking elements arranged in a complex pattern to distribute compressive forces evenly across the surface, enhancing resistance to compression.\" \\\n",
    "        Answer 2\tNow, let's apply this strategy to the design of a submarine: The hull of the submarine could be designed to mimic the structure of the sea urchin's shell. This would involve creating a complex, geometric pattern of interlocking elements that can distribute pressure evenly, effectively resisting compression. This design could potentially improve the safety and efficiency of submarine travel by better managing compressive forces. \\\n",
    "\n",
    "        Question 3\tHow can I design a car engine that keeps cool? \\\n",
    "        Biologize 3\tThe essential function we need to address is cooling. In biological terms, we can ask, \"How does nature regulate temperature?\" Specifically, we can look at the Apis mellifera, or honeybee, which has a unique way of cooling their hives. So, our biologized question becomes, \"How does Apis mellifera manage temperature regulation?\" \\\n",
    "        Action 3\tSearch[Apis mellifera manage temperature regulation] \\\n",
    "        Retrieval 3\t“Water homeostasis in bees, with the emphasis on sociality” by Susan W. Nicolson. https://journals.biologists.com/jeb/article/212/3/429/9597/Water-homeostasis-in-bees-with-the-emphasis-on \\\n",
    "\n",
    "        Abstract: \\\n",
    "\n",
    "        Avenues of water gain and loss in bees are examined here at two levels of organisation: the individual and the colony. Compared with the majority of terrestrial insects, bees have a high water turnover. This is due to their nectar diet and, in larger species, substantial metabolic water production during flight, counteracted by high evaporative and excretory losses. Water fluxes at the colony level can also be very high. When incoming nectar is dilute, honeybees need to remove large volumes of water by evaporation. On the other hand, water is not stored in the nest and must be collected for evaporative cooling and for feeding the brood. Water regulation has many similarities at individual and colony levels. In particular, manipulation of nectar or water on the tongue is extensively used by bees to increase evaporation for either food-concentrating or cooling purposes. \\\n",
    "        Discover 3\tHoneybees use a collective cooling technique to regulate the temperature of their hive. When the temperature inside the hive becomes too high, worker bees collect water and distribute it throughout the hive. Other bees then fan their wings to evaporate the water, which cools the hive. This is a form of evaporative cooling, similar to sweating in humans \\\n",
    "        Abstract 3\tThe essential feature that makes the honeybee's temperature regulation successful is its use of evaporative cooling. In design terms, we can describe this strategy as follows: \"A system uses a liquid (like water) distributed throughout its structure, and a method to promote evaporation, to cool the entire system.\" \\\n",
    "        Answer 3\tNow, let's apply this strategy to the design of a car engine: The car engine could be designed to mimic the honeybee's evaporative cooling technique. This could involve a system where a coolant is distributed throughout the engine. A mechanism (like a fan) could then promote evaporation, cooling the engine. This design could potentially improve the efficiency of car engines by better managing heat. \\\n",
    "        \n",
    "        Question 4 \\\n",
    "        {biologize_abstract_retrieved_paper}\n",
    "    \"\"\"\n",
    "    )\n",
    "\n",
    "chain_discoverAbstractAnswer = LLMChain(llm=llm, prompt=prompt_discoverAbstractAnswer)\n"
   ]
  },
  {
   "cell_type": "code",
   "execution_count": 294,
   "metadata": {},
   "outputs": [
    {
     "data": {
      "text/plain": [
       "'Survive a Warming Climate: Insect Responses to Extreme High Temperatures. by Chun‐Sen Ma, G. Ma, S. Pincebourde. https://www.semanticscholar.org/paper/a00375fe7b47b2322fb4fdac28754a58a61b2620 \\n Abstract: \\n Global change includes a substantial increase in the frequency and intensity of extreme high temperatures (EHTs), which influence insects at almost all levels. The number of studies showing the ecological importance of EHTs has risen in recent years, but the knowledge is rather dispersed in the contemporary literature. In this article, we review the biological and ecological effects of EHTs actually experienced in the field, i.e., when coupled to fluctuating thermal regimes. First, we characterize EHTs in the field. Then, we summarize the impacts of EHTs on insects at various levels and the processes allowing insects to buffer EHTs. Finally, we argue that the mechanisms leading to positive or negative impacts of EHTs on insects can only be resolved from integrative approaches considering natural thermal regimes. Thermal extremes, perhaps more than the gradual increase in mean temperature, drive insect responses to climate change, with crucial impacts on pest management and biodiversity conservation. Expected final online publication date for the Annual Review of Entomology, Volume 66 is January 11, 2020. Please see http://www.annualreviews.org/page/journal/pubdates for revised estimates.Structural stability of the oyster gut microbiome contributes to the host’s physiological tolerance to temperature fluctuations on tropical rocky shores by Bovern Suchart Arromrak, Adrian Tsz Chun Wong, T. Hui, K. Leung, G. Williams, M. Ganmanee, T. Durand, J. C. Lee, J. Gaitán‐Espitia. https://www.semanticscholar.org/paper/0eecdc70d4d54fe2d37bde82ea289fe2b1620be3 \\n Abstract: \\n Extreme thermal conditions on rocky shores are challenging to the survival of intertidal ectotherms, especially during emersion periods. Yet, many species are highly successful in these environments in part due to their ability to regulate intrinsic mechanisms associated with physiological stress and their metabolic demands. More recently, there has been a growing awareness that other extrinsic mechanisms, such as animal-associated microbial communities, can also influence the tolerance and survival of ectotherms under stressful conditions. The extent to which intrinsic and extrinsic mechanisms are functionally linked as part of the overall adaptive response of intertidal animals to temperature change and stress is, however, poorly understood. Here, we examined the dynamics and potential interactions of intrinsic and extrinsic mechanisms in the ecology of the tropical high shore rock oyster, Isognomon nucleus. We found that oysters modulate their internal biochemistry (PUFA-oxidised metabolites including 5-F2t-IsoP, 10-F4t-NeuroP, 13-F4t-NeuroP, and 16-F1t-PhytoP) as part of their adaptive regulation to cope with physiological stress during periods of extreme temperatures when emersed. While we detected extrinsic microbiome changes in alpha diversity, the overall taxonomic and functional structure of the microbiome showed temporal stability with no association with the host biochemical profiles. Our finding here suggests that the microbiome taxonomic and functional structure is maintained by a stable host control (not associated to the host biochemistry) and/or that the microbiome (independent of the host) is resilient to the temperature fluctuations and extremes. This microbiome stability is likely to contribute to the oyster, I. nucleus thermal tolerance, in addition to the intrinsic biochemical adjustment, to survive in the thermally challenging intertidal environment.Intrinsically Disordered Tardigrade Proteins Self‐Assemble into Fibrous Gels in Response to Environmental Stress by Anas Malki, J. Teulon, A. Camacho-Zarco, Shu‐wen W. Chen, Wiktor Adamski, D. Maurin, N. Salvi, J. Pellequer, M. Blackledge. https://www.semanticscholar.org/paper/3504b3855220f3e595773cc5a044ccb6b087cc12 \\n Abstract: \\n Abstract Tardigrades are remarkable for their ability to survive harsh stress conditions as diverse as extreme temperature and desiccation. The molecular mechanisms that confer this unusual resistance to physical stress remain unknown. Recently, tardigrade‐unique intrinsically disordered proteins have been shown to play an essential role in tardigrade anhydrobiosis. Here, we characterize the conformational and physical behaviour of CAHS‐8 from Hypsibius\\u2005exemplaris. NMR spectroscopy reveals that the protein comprises an extended central helical domain flanked by disordered termini. Upon concentration, the protein is shown to successively form oligomers, long fibres, and finally gels constituted of fibres in a strongly temperature‐dependent manner. The helical domain forms the core of the fibrillar structure, with the disordered termini remaining highly dynamic within the gel. Soluble proteins can be encapsulated within cavities in the gel, maintaining their functional form. The ability to reversibly form fibrous gels may be associated with the enhanced protective properties of these proteins.\\n'"
      ]
     },
     "execution_count": 294,
     "metadata": {},
     "output_type": "execute_result"
    }
   ],
   "source": [
    "SemanticScholarSearch(search_query_output, 3)"
   ]
  },
  {
   "cell_type": "code",
   "execution_count": 225,
   "metadata": {},
   "outputs": [
    {
     "name": "stdout",
     "output_type": "stream",
     "text": [
      "\n",
      "Discover 4\tTardigrades have evolved a unique mechanism to survive extreme temperature fluctuations. They produce intrinsically disordered proteins that can self-assemble into fibrous gels. These gels can encapsulate other proteins, protecting them from extreme temperatures. \n",
      "\n",
      "Abstract 4\tThe essential feature that makes the tardigrade's temperature regulation successful is its use of self-assembling fibrous gels. In design terms, we can describe this strategy as follows: \"A system uses a protein (like CAHS-8) that can self-assemble into a fibrous gel, and can encapsulate other proteins, to protect the system from extreme temperatures.\" \n",
      "\n",
      "Answer 4\tNow, let's apply this strategy to the design of materials for outer space: The materials could be designed to mimic the tardigrade's self-assembling fibrous gel technique. This could involve a system where a protein is designed to self-assemble into a fibrous gel. This gel could then encapsulate other proteins, protecting them from extreme temperatures. This design could potentially improve the durability of materials used in outer space by better managing temperature fluctuations.\n"
     ]
    }
   ],
   "source": [
    "print(final_output)"
   ]
  },
  {
   "cell_type": "code",
   "execution_count": 227,
   "metadata": {},
   "outputs": [],
   "source": [
    "from langchain.chains import SimpleSequentialChain\n"
   ]
  },
  {
   "cell_type": "code",
   "execution_count": 295,
   "metadata": {},
   "outputs": [],
   "source": [
    "from langchain.chains.base import Chain\n",
    "from langchain.prompts.base import BasePromptTemplate\n",
    "from typing import List, Optional, Dict, Any\n",
    "from pydantic import Extra, Field\n",
    "from langchain.schema import (\n",
    "    BaseLLMOutputParser,\n",
    "    BasePromptTemplate,\n",
    "    LLMResult,\n",
    "    PromptValue,\n",
    "    StrOutputParser,\n",
    ")\n",
    "from langchain.schema.language_model import BaseLanguageModel\n",
    "\n",
    "from langchain.callbacks.manager import (\n",
    "    AsyncCallbackManager,\n",
    "    AsyncCallbackManagerForChainRun,\n",
    "    CallbackManager,\n",
    "    CallbackManagerForChainRun,\n",
    "    Callbacks,\n",
    ")\n",
    "\n",
    "\n",
    "class RetrieverChain(Chain):\n",
    "    \"\"\"\n",
    "    An example of a custom chain.\n",
    "    \"\"\"\n",
    "\n",
    "    prompt: BasePromptTemplate\n",
    "    \"\"\"Prompt object to use.\"\"\"\n",
    "    llm: BaseLanguageModel\n",
    "    output_key: str = \"text\"  #: :meta private:\n",
    "\n",
    "    class Config:\n",
    "        \"\"\"Configuration for this pydantic object.\"\"\"\n",
    "\n",
    "        extra = Extra.forbid\n",
    "        arbitrary_types_allowed = True\n",
    "\n",
    "    @property\n",
    "    def input_keys(self) -> List[str]:\n",
    "        \"\"\"Will be whatever keys the prompt expects.\n",
    "\n",
    "        :meta private:\n",
    "        \"\"\"\n",
    "        return self.prompt.input_variables\n",
    "\n",
    "    @property\n",
    "    def output_keys(self) -> List[str]:\n",
    "        \"\"\"Will always return text key.\n",
    "\n",
    "        :meta private:\n",
    "        \"\"\"\n",
    "        return [self.output_key]\n",
    "\n",
    "    def _call(\n",
    "        self,\n",
    "        inputs: Dict[str, Any],\n",
    "        run_manager: Optional[CallbackManagerForChainRun] = None,\n",
    "    ) -> Dict[str, str]:\n",
    "        # Your custom chain logic goes here\n",
    "        # This is just an example that mimics LLMChain\n",
    "\n",
    "        # Whenever you call a language model, or another chain, you should pass\n",
    "        # a callback manager to it. This allows the inner run to be tracked by\n",
    "        # any callbacks that are registered on the outer run.\n",
    "        # You can always obtain a callback manager for this by calling\n",
    "        # `run_manager.get_child()` as shown below.\n",
    "        search_query_output = re.findall(r\"Search\\[\\+?(-?.+)\\s*\\]\", inputs['biologize_action'])[0]\n",
    "        response = SemanticScholarSearch(search_query_output, 1)\n",
    "\n",
    "        # If you want to log something about this run, you can do so by calling\n",
    "        # methods on the `run_manager`, as shown below. This will trigger any\n",
    "        # callbacks that are registered for that event.\n",
    "        if run_manager:\n",
    "            run_manager.on_text(\"Log something about this run\")\n",
    "\n",
    "        return {self.output_key: inputs['biologize_action'] + \"\\n\" + response}\n",
    "\n",
    "    async def _acall(\n",
    "        self,\n",
    "        inputs: Dict[str, Any],\n",
    "        run_manager: Optional[AsyncCallbackManagerForChainRun] = None,\n",
    "    ) -> Dict[str, str]:\n",
    "        # Your custom chain logic goes here\n",
    "        # This is just an example that mimics LLMChain\n",
    "\n",
    "        # Whenever you call a language model, or another chain, you should pass\n",
    "        # a callback manager to it. This allows the inner run to be tracked by\n",
    "        # any callbacks that are registered on the outer run.\n",
    "        # You can always obtain a callback manager for this by calling\n",
    "        # `run_manager.get_child()` as shown below.\n",
    "        search_query_output = re.findall(r\"Search\\[\\+?(-?.+)\\s*\\]\", inputs['biologize_action'])[0]\n",
    "        response = await SemanticScholarSearch(search_query_output, 1)\n",
    "\n",
    "        # If you want to log something about this run, you can do so by calling\n",
    "        # methods on the `run_manager`, as shown below. This will trigger any\n",
    "        # callbacks that are registered for that event.\n",
    "        if run_manager:\n",
    "            await run_manager.on_text(\"Log something about this run\")\n",
    "\n",
    "        return {self.output_key: inputs['biologize_action'] + \"\\n\" + response}\n",
    "\n",
    "    @property\n",
    "    def _chain_type(self) -> str:\n",
    "        return \"RetrieverChain\"\n",
    "    \n",
    "\n",
    "prompt_retriever = PromptTemplate(\n",
    "    input_variables=['biologize_action'],\n",
    "    template=\"\"\"{biologize_action}\"\"\"\n",
    "    )\n",
    "\n",
    "semScholar = RetrieverChain(llm=llm,prompt=prompt_retriever)"
   ]
  },
  {
   "cell_type": "code",
   "execution_count": 296,
   "metadata": {},
   "outputs": [],
   "source": [
    "overall_chain = SimpleSequentialChain(chains = [chain_biologize, semScholar, chain_discoverAbstractAnswer], verbose = True)"
   ]
  },
  {
   "cell_type": "code",
   "execution_count": 300,
   "metadata": {},
   "outputs": [
    {
     "name": "stdout",
     "output_type": "stream",
     "text": [
      "\n",
      "\n",
      "\u001b[1m> Entering new SimpleSequentialChain chain...\u001b[0m\n",
      "\u001b[36;1m\u001b[1;3m\n",
      "Biologize 4\tThe essential function we need to address is enhancing aircraft efficiency and performance. In biological terms, we can ask, \"How does nature optimize efficiency and performance?\" Specifically, we can look at the Peregrine Falcon, which is the fastest animal on earth. So, our biologized question becomes, \"How does the Peregrine Falcon optimize efficiency and performance?\" \n",
      "\n",
      "Action 4\tSearch[Peregrine Falcon optimize efficiency and performance]\u001b[0m\n",
      "\u001b[33;1m\u001b[1;3m\n",
      "Biologize 4\tThe essential function we need to address is enhancing aircraft efficiency and performance. In biological terms, we can ask, \"How does nature optimize efficiency and performance?\" Specifically, we can look at the Peregrine Falcon, which is the fastest animal on earth. So, our biologized question becomes, \"How does the Peregrine Falcon optimize efficiency and performance?\" \n",
      "\n",
      "Action 4\tSearch[Peregrine Falcon optimize efficiency and performance]\n",
      "Optimization of Sperm Cryopreservation Protocol for Peregrine Falcon (Falco peregrinus) by Beatriz Cardoso, I. Sánchez-Ajofrín, C. Castaño, O. García-Álvarez, M. Esteso, A. Maroto-Morales, M. Iniesta-Cuerda, J. Garde, J. Santiago-Moreno, A. J. Soler. https://www.semanticscholar.org/paper/6afa5c12c13fea070b84c909e58a2c49ca8bc716 \n",
      " Abstract: \n",
      " Simple Summary The process of semen cryopreservation can have multiple advantages in an ex situ conservation program. However, there is a necessity to adapt the protocol to the specificity of each species. With that in mind, we aimed to optimize the sperm freezing/thawing process and study the effect of different cryoprotectants in the peregrine falcon. Abstract Sperm cryopreservation is a complex process that needs to be adapted to wild and domestic avian species to ensure proper efficiency. Because of its accessibility, the peregrine falcon may be used as a good model for studying other raptor species. To find the most optimal cryopreservation protocol for peregrine falcon ejaculates, sperm parameters such as motility, viability, DNA fragmentation, acrosome integrity, and mitochondrial activity were analyzed under different conditions by varying the freezing method (slow freezing in straws vs. ultrarapid freezing in pellets), thawing conditions (37 °C for 30 s vs. 5 °C for 1 min), type of cryoprotectant (DMA vs. DMSO), and concentration of DMSO (4% vs. 8%). Results show that slow cryopreservation in straws yielded greater percentages (p < 0.05) of motile spermatozoa (22.5% ± 4.4% vs. 0.0% ± 4.1%), viable spermatozoa with intact acrosomes (84.6% ± 4.3% vs. 77.4% ± 4.3%), and spermatozoa with active mitochondria (41.0% ± 6.7% vs.12.8% ± 6.7%), compared with those obtained by the ultrarapid freezing in pellets. However, no differences were found between different thawing conditions. Moreover, all sperm motility parameters were greater (p < 0.05) when DMSO was used during freezing compared with DMA, although the use of 3% and 8% DMSO produced similar results. In conclusion, these results represent important progress in the study of falcon semen cryopreservation protocol, highlighting the crucial steps of the process and the most suitable conditions.\n",
      "\u001b[0m\n",
      "\u001b[38;5;200m\u001b[1;3m\n",
      "Discover 4\tThe Peregrine Falcon is an incredible example of natural engineering. Its streamlined body and powerful wings allow it to reach speeds of up to 200 mph, making it the fastest animal on earth. Its speed is due to its efficient use of energy, which is optimized through its aerodynamic shape and powerful wings. \n",
      "\n",
      "Abstract 4\tThe essential feature that makes the Peregrine Falcon successful in optimizing efficiency and performance is its aerodynamic shape and powerful wings. In design terms, we can describe this strategy as follows: \"A streamlined shape and powerful wings are used to optimize efficiency and performance, reducing drag and increasing lift.\" \n",
      "\n",
      "Answer 4\tNow, let's apply this strategy to the design of an aircraft: The aircraft could be designed to mimic the Peregrine Falcon's aerodynamic shape and powerful wings. This would involve creating a streamlined shape that reduces drag and increases lift. This design could potentially improve the efficiency and performance of aircraft by better managing air resistance.\u001b[0m\n",
      "\n",
      "\u001b[1m> Finished chain.\u001b[0m\n"
     ]
    }
   ],
   "source": [
    "a = overall_chain.run(\"How can I enhance aircraft efficiency and performance?\")"
   ]
  },
  {
   "cell_type": "code",
   "execution_count": 301,
   "metadata": {},
   "outputs": [
    {
     "data": {
      "text/plain": [
       "'\\nDiscover 4\\tThe Peregrine Falcon is an incredible example of natural engineering. Its streamlined body and powerful wings allow it to reach speeds of up to 200 mph, making it the fastest animal on earth. Its speed is due to its efficient use of energy, which is optimized through its aerodynamic shape and powerful wings. \\n\\nAbstract 4\\tThe essential feature that makes the Peregrine Falcon successful in optimizing efficiency and performance is its aerodynamic shape and powerful wings. In design terms, we can describe this strategy as follows: \"A streamlined shape and powerful wings are used to optimize efficiency and performance, reducing drag and increasing lift.\" \\n\\nAnswer 4\\tNow, let\\'s apply this strategy to the design of an aircraft: The aircraft could be designed to mimic the Peregrine Falcon\\'s aerodynamic shape and powerful wings. This would involve creating a streamlined shape that reduces drag and increases lift. This design could potentially improve the efficiency and performance of aircraft by better managing air resistance.'"
      ]
     },
     "execution_count": 301,
     "metadata": {},
     "output_type": "execute_result"
    }
   ],
   "source": [
    "a"
   ]
  },
  {
   "cell_type": "code",
   "execution_count": null,
   "metadata": {},
   "outputs": [],
   "source": []
  }
 ],
 "metadata": {
  "kernelspec": {
   "display_name": "base",
   "language": "python",
   "name": "python3"
  },
  "language_info": {
   "codemirror_mode": {
    "name": "ipython",
    "version": 3
   },
   "file_extension": ".py",
   "mimetype": "text/x-python",
   "name": "python",
   "nbconvert_exporter": "python",
   "pygments_lexer": "ipython3",
   "version": "3.10.9"
  },
  "orig_nbformat": 4
 },
 "nbformat": 4,
 "nbformat_minor": 2
}
